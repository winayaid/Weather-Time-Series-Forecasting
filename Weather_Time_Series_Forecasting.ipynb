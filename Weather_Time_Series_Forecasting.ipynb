{
  "nbformat": 4,
  "nbformat_minor": 0,
  "metadata": {
    "colab": {
      "provenance": []
    },
    "kernelspec": {
      "name": "py38",
      "display_name": "py38"
    }
  },
  "cells": [
    {
      "cell_type": "markdown",
      "source": [
        "# Setup Python Environment"
      ],
      "metadata": {
        "id": "b0J4V0BZeDpr"
      }
    },
    {
      "cell_type": "code",
      "execution_count": null,
      "metadata": {
        "colab": {
          "base_uri": "https://localhost:8080/"
        },
        "id": "WSs0r3NyyRok",
        "outputId": "c1d84d84-e5dc-435f-d6e2-174dde037198"
      },
      "outputs": [
        {
          "output_type": "stream",
          "name": "stdout",
          "text": [
            "--2023-09-26 23:26:20--  https://repo.anaconda.com/miniconda/Miniconda3-py38_4.8.2-Linux-x86_64.sh\n",
            "Resolving repo.anaconda.com (repo.anaconda.com)... 104.16.130.3, 104.16.131.3, 2606:4700::6810:8303, ...\n",
            "Connecting to repo.anaconda.com (repo.anaconda.com)|104.16.130.3|:443... connected.\n",
            "HTTP request sent, awaiting response... 200 OK\n",
            "Length: 89817099 (86M) [application/x-sh]\n",
            "Saving to: ‘mini.sh’\n",
            "\n",
            "mini.sh             100%[===================>]  85.66M   224MB/s    in 0.4s    \n",
            "\n",
            "2023-09-26 23:26:21 (224 MB/s) - ‘mini.sh’ saved [89817099/89817099]\n",
            "\n",
            "PREFIX=/usr/local\n",
            "Unpacking payload ...\n",
            "Collecting package metadata (current_repodata.json): - \b\bdone\n",
            "Solving environment: | \b\bdone\n",
            "\n",
            "## Package Plan ##\n",
            "\n",
            "  environment location: /usr/local\n",
            "\n",
            "  added / updated specs:\n",
            "    - _libgcc_mutex==0.1=main\n",
            "    - asn1crypto==1.3.0=py38_0\n",
            "    - ca-certificates==2020.1.1=0\n",
            "    - certifi==2019.11.28=py38_0\n",
            "    - cffi==1.14.0=py38h2e261b9_0\n",
            "    - chardet==3.0.4=py38_1003\n",
            "    - conda-package-handling==1.6.0=py38h7b6447c_0\n",
            "    - conda==4.8.2=py38_0\n",
            "    - cryptography==2.8=py38h1ba5d50_0\n",
            "    - idna==2.8=py38_1000\n",
            "    - ld_impl_linux-64==2.33.1=h53a641e_7\n",
            "    - libedit==3.1.20181209=hc058e9b_0\n",
            "    - libffi==3.2.1=hd88cf55_4\n",
            "    - libgcc-ng==9.1.0=hdf63c60_0\n",
            "    - libstdcxx-ng==9.1.0=hdf63c60_0\n",
            "    - ncurses==6.2=he6710b0_0\n",
            "    - openssl==1.1.1d=h7b6447c_4\n",
            "    - pip==20.0.2=py38_1\n",
            "    - pycosat==0.6.3=py38h7b6447c_0\n",
            "    - pycparser==2.19=py_0\n",
            "    - pyopenssl==19.1.0=py38_0\n",
            "    - pysocks==1.7.1=py38_0\n",
            "    - python==3.8.1=h0371630_1\n",
            "    - readline==7.0=h7b6447c_5\n",
            "    - requests==2.22.0=py38_1\n",
            "    - ruamel_yaml==0.15.87=py38h7b6447c_0\n",
            "    - setuptools==45.2.0=py38_0\n",
            "    - six==1.14.0=py38_0\n",
            "    - sqlite==3.31.1=h7b6447c_0\n",
            "    - tk==8.6.8=hbc83047_0\n",
            "    - tqdm==4.42.1=py_0\n",
            "    - urllib3==1.25.8=py38_0\n",
            "    - wheel==0.34.2=py38_0\n",
            "    - xz==5.2.4=h14c3975_4\n",
            "    - yaml==0.1.7=had09818_2\n",
            "    - zlib==1.2.11=h7b6447c_3\n",
            "\n",
            "\n",
            "The following NEW packages will be INSTALLED:\n",
            "\n",
            "  _libgcc_mutex      pkgs/main/linux-64::_libgcc_mutex-0.1-main\n",
            "  asn1crypto         pkgs/main/linux-64::asn1crypto-1.3.0-py38_0\n",
            "  ca-certificates    pkgs/main/linux-64::ca-certificates-2020.1.1-0\n",
            "  certifi            pkgs/main/linux-64::certifi-2019.11.28-py38_0\n",
            "  cffi               pkgs/main/linux-64::cffi-1.14.0-py38h2e261b9_0\n",
            "  chardet            pkgs/main/linux-64::chardet-3.0.4-py38_1003\n",
            "  conda              pkgs/main/linux-64::conda-4.8.2-py38_0\n",
            "  conda-package-han~ pkgs/main/linux-64::conda-package-handling-1.6.0-py38h7b6447c_0\n",
            "  cryptography       pkgs/main/linux-64::cryptography-2.8-py38h1ba5d50_0\n",
            "  idna               pkgs/main/linux-64::idna-2.8-py38_1000\n",
            "  ld_impl_linux-64   pkgs/main/linux-64::ld_impl_linux-64-2.33.1-h53a641e_7\n",
            "  libedit            pkgs/main/linux-64::libedit-3.1.20181209-hc058e9b_0\n",
            "  libffi             pkgs/main/linux-64::libffi-3.2.1-hd88cf55_4\n",
            "  libgcc-ng          pkgs/main/linux-64::libgcc-ng-9.1.0-hdf63c60_0\n",
            "  libstdcxx-ng       pkgs/main/linux-64::libstdcxx-ng-9.1.0-hdf63c60_0\n",
            "  ncurses            pkgs/main/linux-64::ncurses-6.2-he6710b0_0\n",
            "  openssl            pkgs/main/linux-64::openssl-1.1.1d-h7b6447c_4\n",
            "  pip                pkgs/main/linux-64::pip-20.0.2-py38_1\n",
            "  pycosat            pkgs/main/linux-64::pycosat-0.6.3-py38h7b6447c_0\n",
            "  pycparser          pkgs/main/noarch::pycparser-2.19-py_0\n",
            "  pyopenssl          pkgs/main/linux-64::pyopenssl-19.1.0-py38_0\n",
            "  pysocks            pkgs/main/linux-64::pysocks-1.7.1-py38_0\n",
            "  python             pkgs/main/linux-64::python-3.8.1-h0371630_1\n",
            "  readline           pkgs/main/linux-64::readline-7.0-h7b6447c_5\n",
            "  requests           pkgs/main/linux-64::requests-2.22.0-py38_1\n",
            "  ruamel_yaml        pkgs/main/linux-64::ruamel_yaml-0.15.87-py38h7b6447c_0\n",
            "  setuptools         pkgs/main/linux-64::setuptools-45.2.0-py38_0\n",
            "  six                pkgs/main/linux-64::six-1.14.0-py38_0\n",
            "  sqlite             pkgs/main/linux-64::sqlite-3.31.1-h7b6447c_0\n",
            "  tk                 pkgs/main/linux-64::tk-8.6.8-hbc83047_0\n",
            "  tqdm               pkgs/main/noarch::tqdm-4.42.1-py_0\n",
            "  urllib3            pkgs/main/linux-64::urllib3-1.25.8-py38_0\n",
            "  wheel              pkgs/main/linux-64::wheel-0.34.2-py38_0\n",
            "  xz                 pkgs/main/linux-64::xz-5.2.4-h14c3975_4\n",
            "  yaml               pkgs/main/linux-64::yaml-0.1.7-had09818_2\n",
            "  zlib               pkgs/main/linux-64::zlib-1.2.11-h7b6447c_3\n",
            "\n",
            "\n",
            "Preparing transaction: - \b\b\\ \b\b| \b\b/ \b\bdone\n",
            "Executing transaction: \\ \b\b| \b\b/ \b\b- \b\b\\ \b\b| \b\b/ \b\b- \b\b\\ \b\b| \b\b/ \b\b- \b\b\\ \b\b| \b\b/ \b\b- \b\b\\ \b\b| \b\bdone\n",
            "installation finished.\n",
            "WARNING:\n",
            "    You currently have a PYTHONPATH environment variable set. This may cause\n",
            "    unexpected behavior when running the Python interpreter in Miniconda3.\n",
            "    For best results, please verify that your PYTHONPATH only points to\n",
            "    directories of packages that are compatible with the Python interpreter\n",
            "    in Miniconda3: /usr/local\n",
            "Collecting package metadata (current_repodata.json): ...working... done\n",
            "Solving environment: ...working... done\n",
            "\n",
            "## Package Plan ##\n",
            "\n",
            "  environment location: /usr/local\n",
            "\n",
            "  added / updated specs:\n",
            "    - jupyter\n",
            "\n",
            "\n",
            "The following packages will be downloaded:\n",
            "\n",
            "    package                    |            build\n",
            "    ---------------------------|-----------------\n",
            "    _openmp_mutex-5.1          |            1_gnu          21 KB\n",
            "    anyio-3.5.0                |   py38h06a4308_0         165 KB\n",
            "    argon2-cffi-21.3.0         |     pyhd3eb1b0_0          15 KB\n",
            "    argon2-cffi-bindings-21.2.0|   py38h7f8727e_0          33 KB\n",
            "    asttokens-2.0.5            |     pyhd3eb1b0_0          20 KB\n",
            "    attrs-23.1.0               |   py38h06a4308_0         140 KB\n",
            "    babel-2.11.0               |   py38h06a4308_0         6.8 MB\n",
            "    backcall-0.2.0             |     pyhd3eb1b0_0          13 KB\n",
            "    beautifulsoup4-4.12.2      |   py38h06a4308_0         209 KB\n",
            "    bleach-4.1.0               |     pyhd3eb1b0_0         123 KB\n",
            "    ca-certificates-2023.08.22 |       h06a4308_0         123 KB\n",
            "    certifi-2023.7.22          |   py38h06a4308_0         153 KB\n",
            "    comm-0.1.2                 |   py38h06a4308_0          13 KB\n",
            "    cyrus-sasl-2.1.28          |       h9c0eb46_1         237 KB\n",
            "    dbus-1.13.18               |       hb2f20db_0         504 KB\n",
            "    debugpy-1.6.7              |   py38h6a678d5_0         2.0 MB\n",
            "    decorator-5.1.1            |     pyhd3eb1b0_0          12 KB\n",
            "    defusedxml-0.7.1           |     pyhd3eb1b0_0          23 KB\n",
            "    entrypoints-0.4            |   py38h06a4308_0          16 KB\n",
            "    executing-0.8.3            |     pyhd3eb1b0_0          18 KB\n",
            "    expat-2.5.0                |       h6a678d5_0         172 KB\n",
            "    fontconfig-2.14.1          |       h4c34cd2_2         281 KB\n",
            "    freetype-2.12.1            |       h4a9f257_0         626 KB\n",
            "    giflib-5.2.1               |       h5eee18b_3          80 KB\n",
            "    glib-2.69.1                |       he621ea3_2         1.9 MB\n",
            "    gst-plugins-base-1.14.1    |       h6a678d5_1         2.2 MB\n",
            "    gstreamer-1.14.1           |       h5eee18b_1         1.7 MB\n",
            "    icu-58.2                   |       he6710b0_3        10.5 MB\n",
            "    importlib_resources-5.2.0  |     pyhd3eb1b0_1          21 KB\n",
            "    ipykernel-6.25.0           |   py38h2f386ee_0         228 KB\n",
            "    ipython-8.12.2             |   py38h06a4308_0         1.1 MB\n",
            "    ipython_genutils-0.2.0     |     pyhd3eb1b0_1          27 KB\n",
            "    ipywidgets-8.0.4           |   py38h06a4308_0         194 KB\n",
            "    jedi-0.18.1                |   py38h06a4308_1         982 KB\n",
            "    jinja2-3.1.2               |   py38h06a4308_0         211 KB\n",
            "    jpeg-9e                    |       h5eee18b_1         262 KB\n",
            "    json5-0.9.6                |     pyhd3eb1b0_0          21 KB\n",
            "    jsonschema-4.17.3          |   py38h06a4308_0         140 KB\n",
            "    jupyter-1.0.0              |   py38h06a4308_8           7 KB\n",
            "    jupyter_client-7.4.9       |   py38h06a4308_0         205 KB\n",
            "    jupyter_console-6.6.3      |   py38h06a4308_0          45 KB\n",
            "    jupyter_core-5.3.0         |   py38h06a4308_0          89 KB\n",
            "    jupyter_server-1.23.4      |   py38h06a4308_0         382 KB\n",
            "    jupyterlab-3.3.2           |     pyhd3eb1b0_0         3.6 MB\n",
            "    jupyterlab_pygments-0.1.2  |             py_0           8 KB\n",
            "    jupyterlab_server-2.10.3   |     pyhd3eb1b0_1          48 KB\n",
            "    jupyterlab_widgets-3.0.5   |   py38h06a4308_0         178 KB\n",
            "    krb5-1.20.1                |       h568e23c_1         1.3 MB\n",
            "    lerc-3.0                   |       h295c915_0         196 KB\n",
            "    libclang-14.0.6            |default_hc6dbbc7_1         137 KB\n",
            "    libclang13-14.0.6          |default_he11475f_1         9.8 MB\n",
            "    libcups-2.4.2              |       ha637b67_0         4.4 MB\n",
            "    libdeflate-1.17            |       h5eee18b_0          69 KB\n",
            "    libedit-3.1.20221030       |       h5eee18b_0         181 KB\n",
            "    libevent-2.1.12            |       h8f2d780_0         425 KB\n",
            "    libffi-3.4.4               |       h6a678d5_0         142 KB\n",
            "    libgcc-ng-11.2.0           |       h1234567_1         5.3 MB\n",
            "    libgomp-11.2.0             |       h1234567_1         474 KB\n",
            "    libllvm14-14.0.6           |       hdb19cb5_3        33.4 MB\n",
            "    libpng-1.6.39              |       h5eee18b_0         304 KB\n",
            "    libpq-12.15                |       h37d81fd_1         2.4 MB\n",
            "    libsodium-1.0.18           |       h7b6447c_0         244 KB\n",
            "    libstdcxx-ng-11.2.0        |       h1234567_1         4.7 MB\n",
            "    libtiff-4.5.1              |       h6a678d5_0         533 KB\n",
            "    libuuid-1.41.5             |       h5eee18b_0          27 KB\n",
            "    libwebp-1.3.2              |       h11a3e52_0          87 KB\n",
            "    libwebp-base-1.3.2         |       h5eee18b_0         387 KB\n",
            "    libxcb-1.15                |       h7f8727e_0         505 KB\n",
            "    libxkbcommon-1.0.1         |       h5eee18b_1         590 KB\n",
            "    libxml2-2.10.4             |       hcbfbd50_0         755 KB\n",
            "    libxslt-1.1.37             |       h2085143_0         266 KB\n",
            "    lxml-4.9.3                 |   py38hdbbb534_0         1.5 MB\n",
            "    lz4-c-1.9.4                |       h6a678d5_0         154 KB\n",
            "    markupsafe-2.1.1           |   py38h7f8727e_0          21 KB\n",
            "    matplotlib-inline-0.1.6    |   py38h06a4308_0          16 KB\n",
            "    mistune-0.8.4              |py38h7b6447c_1000          55 KB\n",
            "    mysql-5.7.24               |       he378463_2        60.0 MB\n",
            "    nbclassic-0.5.5            |   py38h06a4308_0         6.1 MB\n",
            "    nbclient-0.5.13            |   py38h06a4308_0          91 KB\n",
            "    nbconvert-6.5.4            |   py38h06a4308_0         513 KB\n",
            "    nbformat-5.9.2             |   py38h06a4308_0         136 KB\n",
            "    ncurses-6.4                |       h6a678d5_0         914 KB\n",
            "    nest-asyncio-1.5.6         |   py38h06a4308_0          14 KB\n",
            "    notebook-6.5.4             |   py38h06a4308_1         532 KB\n",
            "    notebook-shim-0.2.2        |   py38h06a4308_0          22 KB\n",
            "    nspr-4.35                  |       h6a678d5_0         244 KB\n",
            "    nss-3.89.1                 |       h6a678d5_0         2.1 MB\n",
            "    openssl-1.1.1w             |       h7f8727e_0         3.7 MB\n",
            "    packaging-23.1             |   py38h06a4308_0          77 KB\n",
            "    pandocfilters-1.5.0        |     pyhd3eb1b0_0          11 KB\n",
            "    parso-0.8.3                |     pyhd3eb1b0_0          70 KB\n",
            "    pcre-8.45                  |       h295c915_0         207 KB\n",
            "    pexpect-4.8.0              |     pyhd3eb1b0_3          53 KB\n",
            "    pickleshare-0.7.5          |  pyhd3eb1b0_1003          13 KB\n",
            "    pkgutil-resolve-name-1.3.10|   py38h06a4308_0           9 KB\n",
            "    platformdirs-3.10.0        |   py38h06a4308_0          33 KB\n",
            "    ply-3.11                   |           py38_0          81 KB\n",
            "    prometheus_client-0.14.1   |   py38h06a4308_0          90 KB\n",
            "    prompt-toolkit-3.0.36      |   py38h06a4308_0         574 KB\n",
            "    prompt_toolkit-3.0.36      |       hd3eb1b0_0           5 KB\n",
            "    psutil-5.9.0               |   py38h5eee18b_0         330 KB\n",
            "    ptyprocess-0.7.0           |     pyhd3eb1b0_2          17 KB\n",
            "    pure_eval-0.2.2            |     pyhd3eb1b0_0          14 KB\n",
            "    pygments-2.15.1            |   py38h06a4308_1         1.8 MB\n",
            "    pyqt-5.15.7                |   py38h6a678d5_1         5.1 MB\n",
            "    pyqt5-sip-12.11.0          |   py38h6a678d5_1          87 KB\n",
            "    pyrsistent-0.18.0          |   py38heee7806_0          94 KB\n",
            "    python-3.8.18              |       h7a1cb2a_0        25.3 MB\n",
            "    python-dateutil-2.8.2      |     pyhd3eb1b0_0         233 KB\n",
            "    python-fastjsonschema-2.16.2|   py38h06a4308_0         230 KB\n",
            "    pytz-2023.3.post1          |   py38h06a4308_0         209 KB\n",
            "    pyzmq-23.2.0               |   py38h6a678d5_0         448 KB\n",
            "    qt-main-5.15.2             |       h5b8104b_9        53.7 MB\n",
            "    qt-webengine-5.15.9        |       h9ab4d14_7        53.8 MB\n",
            "    qtconsole-5.4.2            |   py38h06a4308_0         191 KB\n",
            "    qtpy-2.2.0                 |   py38h06a4308_0          84 KB\n",
            "    qtwebkit-5.212             |       h3fafdc1_5        16.2 MB\n",
            "    readline-8.2               |       h5eee18b_0         357 KB\n",
            "    send2trash-1.8.0           |     pyhd3eb1b0_1          19 KB\n",
            "    sip-6.6.2                  |   py38h6a678d5_0         425 KB\n",
            "    sniffio-1.2.0              |   py38h06a4308_1          15 KB\n",
            "    soupsieve-2.4              |   py38h06a4308_0          69 KB\n",
            "    sqlite-3.41.2              |       h5eee18b_0         1.2 MB\n",
            "    stack_data-0.2.0           |     pyhd3eb1b0_0          22 KB\n",
            "    terminado-0.17.1           |   py38h06a4308_0          31 KB\n",
            "    tinycss2-1.2.1             |   py38h06a4308_0          40 KB\n",
            "    tk-8.6.12                  |       h1ccaba5_0         3.0 MB\n",
            "    toml-0.10.2                |     pyhd3eb1b0_0          20 KB\n",
            "    tornado-6.3.2              |   py38h5eee18b_0         644 KB\n",
            "    traitlets-5.7.1            |   py38h06a4308_0         200 KB\n",
            "    typing-extensions-4.7.1    |   py38h06a4308_0           9 KB\n",
            "    typing_extensions-4.7.1    |   py38h06a4308_0          55 KB\n",
            "    wcwidth-0.2.5              |     pyhd3eb1b0_0          26 KB\n",
            "    webencodings-0.5.1         |           py38_1          20 KB\n",
            "    websocket-client-0.58.0    |   py38h06a4308_4          66 KB\n",
            "    widgetsnbextension-4.0.5   |   py38h06a4308_0         875 KB\n",
            "    xz-5.4.2                   |       h5eee18b_0         642 KB\n",
            "    zeromq-4.3.4               |       h2531618_0         331 KB\n",
            "    zipp-3.11.0                |   py38h06a4308_0          19 KB\n",
            "    zlib-1.2.13                |       h5eee18b_0         103 KB\n",
            "    zstd-1.5.5                 |       hc292b87_0         647 KB\n",
            "    ------------------------------------------------------------\n",
            "                                           Total:       345.8 MB\n",
            "\n",
            "The following NEW packages will be INSTALLED:\n",
            "\n",
            "  _openmp_mutex      pkgs/main/linux-64::_openmp_mutex-5.1-1_gnu\n",
            "  anyio              pkgs/main/linux-64::anyio-3.5.0-py38h06a4308_0\n",
            "  argon2-cffi        pkgs/main/noarch::argon2-cffi-21.3.0-pyhd3eb1b0_0\n",
            "  argon2-cffi-bindi~ pkgs/main/linux-64::argon2-cffi-bindings-21.2.0-py38h7f8727e_0\n",
            "  asttokens          pkgs/main/noarch::asttokens-2.0.5-pyhd3eb1b0_0\n",
            "  attrs              pkgs/main/linux-64::attrs-23.1.0-py38h06a4308_0\n",
            "  babel              pkgs/main/linux-64::babel-2.11.0-py38h06a4308_0\n",
            "  backcall           pkgs/main/noarch::backcall-0.2.0-pyhd3eb1b0_0\n",
            "  beautifulsoup4     pkgs/main/linux-64::beautifulsoup4-4.12.2-py38h06a4308_0\n",
            "  bleach             pkgs/main/noarch::bleach-4.1.0-pyhd3eb1b0_0\n",
            "  comm               pkgs/main/linux-64::comm-0.1.2-py38h06a4308_0\n",
            "  cyrus-sasl         pkgs/main/linux-64::cyrus-sasl-2.1.28-h9c0eb46_1\n",
            "  dbus               pkgs/main/linux-64::dbus-1.13.18-hb2f20db_0\n",
            "  debugpy            pkgs/main/linux-64::debugpy-1.6.7-py38h6a678d5_0\n",
            "  decorator          pkgs/main/noarch::decorator-5.1.1-pyhd3eb1b0_0\n",
            "  defusedxml         pkgs/main/noarch::defusedxml-0.7.1-pyhd3eb1b0_0\n",
            "  entrypoints        pkgs/main/linux-64::entrypoints-0.4-py38h06a4308_0\n",
            "  executing          pkgs/main/noarch::executing-0.8.3-pyhd3eb1b0_0\n",
            "  expat              pkgs/main/linux-64::expat-2.5.0-h6a678d5_0\n",
            "  fontconfig         pkgs/main/linux-64::fontconfig-2.14.1-h4c34cd2_2\n",
            "  freetype           pkgs/main/linux-64::freetype-2.12.1-h4a9f257_0\n",
            "  giflib             pkgs/main/linux-64::giflib-5.2.1-h5eee18b_3\n",
            "  glib               pkgs/main/linux-64::glib-2.69.1-he621ea3_2\n",
            "  gst-plugins-base   pkgs/main/linux-64::gst-plugins-base-1.14.1-h6a678d5_1\n",
            "  gstreamer          pkgs/main/linux-64::gstreamer-1.14.1-h5eee18b_1\n",
            "  icu                pkgs/main/linux-64::icu-58.2-he6710b0_3\n",
            "  importlib_resourc~ pkgs/main/noarch::importlib_resources-5.2.0-pyhd3eb1b0_1\n",
            "  ipykernel          pkgs/main/linux-64::ipykernel-6.25.0-py38h2f386ee_0\n",
            "  ipython            pkgs/main/linux-64::ipython-8.12.2-py38h06a4308_0\n",
            "  ipython_genutils   pkgs/main/noarch::ipython_genutils-0.2.0-pyhd3eb1b0_1\n",
            "  ipywidgets         pkgs/main/linux-64::ipywidgets-8.0.4-py38h06a4308_0\n",
            "  jedi               pkgs/main/linux-64::jedi-0.18.1-py38h06a4308_1\n",
            "  jinja2             pkgs/main/linux-64::jinja2-3.1.2-py38h06a4308_0\n",
            "  jpeg               pkgs/main/linux-64::jpeg-9e-h5eee18b_1\n",
            "  json5              pkgs/main/noarch::json5-0.9.6-pyhd3eb1b0_0\n",
            "  jsonschema         pkgs/main/linux-64::jsonschema-4.17.3-py38h06a4308_0\n",
            "  jupyter            pkgs/main/linux-64::jupyter-1.0.0-py38h06a4308_8\n",
            "  jupyter_client     pkgs/main/linux-64::jupyter_client-7.4.9-py38h06a4308_0\n",
            "  jupyter_console    pkgs/main/linux-64::jupyter_console-6.6.3-py38h06a4308_0\n",
            "  jupyter_core       pkgs/main/linux-64::jupyter_core-5.3.0-py38h06a4308_0\n",
            "  jupyter_server     pkgs/main/linux-64::jupyter_server-1.23.4-py38h06a4308_0\n",
            "  jupyterlab         pkgs/main/noarch::jupyterlab-3.3.2-pyhd3eb1b0_0\n",
            "  jupyterlab_pygmen~ pkgs/main/noarch::jupyterlab_pygments-0.1.2-py_0\n",
            "  jupyterlab_server  pkgs/main/noarch::jupyterlab_server-2.10.3-pyhd3eb1b0_1\n",
            "  jupyterlab_widgets pkgs/main/linux-64::jupyterlab_widgets-3.0.5-py38h06a4308_0\n",
            "  krb5               pkgs/main/linux-64::krb5-1.20.1-h568e23c_1\n",
            "  lerc               pkgs/main/linux-64::lerc-3.0-h295c915_0\n",
            "  libclang           pkgs/main/linux-64::libclang-14.0.6-default_hc6dbbc7_1\n",
            "  libclang13         pkgs/main/linux-64::libclang13-14.0.6-default_he11475f_1\n",
            "  libcups            pkgs/main/linux-64::libcups-2.4.2-ha637b67_0\n",
            "  libdeflate         pkgs/main/linux-64::libdeflate-1.17-h5eee18b_0\n",
            "  libevent           pkgs/main/linux-64::libevent-2.1.12-h8f2d780_0\n",
            "  libgomp            pkgs/main/linux-64::libgomp-11.2.0-h1234567_1\n",
            "  libllvm14          pkgs/main/linux-64::libllvm14-14.0.6-hdb19cb5_3\n",
            "  libpng             pkgs/main/linux-64::libpng-1.6.39-h5eee18b_0\n",
            "  libpq              pkgs/main/linux-64::libpq-12.15-h37d81fd_1\n",
            "  libsodium          pkgs/main/linux-64::libsodium-1.0.18-h7b6447c_0\n",
            "  libtiff            pkgs/main/linux-64::libtiff-4.5.1-h6a678d5_0\n",
            "  libuuid            pkgs/main/linux-64::libuuid-1.41.5-h5eee18b_0\n",
            "  libwebp            pkgs/main/linux-64::libwebp-1.3.2-h11a3e52_0\n",
            "  libwebp-base       pkgs/main/linux-64::libwebp-base-1.3.2-h5eee18b_0\n",
            "  libxcb             pkgs/main/linux-64::libxcb-1.15-h7f8727e_0\n",
            "  libxkbcommon       pkgs/main/linux-64::libxkbcommon-1.0.1-h5eee18b_1\n",
            "  libxml2            pkgs/main/linux-64::libxml2-2.10.4-hcbfbd50_0\n",
            "  libxslt            pkgs/main/linux-64::libxslt-1.1.37-h2085143_0\n",
            "  lxml               pkgs/main/linux-64::lxml-4.9.3-py38hdbbb534_0\n",
            "  lz4-c              pkgs/main/linux-64::lz4-c-1.9.4-h6a678d5_0\n",
            "  markupsafe         pkgs/main/linux-64::markupsafe-2.1.1-py38h7f8727e_0\n",
            "  matplotlib-inline  pkgs/main/linux-64::matplotlib-inline-0.1.6-py38h06a4308_0\n",
            "  mistune            pkgs/main/linux-64::mistune-0.8.4-py38h7b6447c_1000\n",
            "  mysql              pkgs/main/linux-64::mysql-5.7.24-he378463_2\n",
            "  nbclassic          pkgs/main/linux-64::nbclassic-0.5.5-py38h06a4308_0\n",
            "  nbclient           pkgs/main/linux-64::nbclient-0.5.13-py38h06a4308_0\n",
            "  nbconvert          pkgs/main/linux-64::nbconvert-6.5.4-py38h06a4308_0\n",
            "  nbformat           pkgs/main/linux-64::nbformat-5.9.2-py38h06a4308_0\n",
            "  nest-asyncio       pkgs/main/linux-64::nest-asyncio-1.5.6-py38h06a4308_0\n",
            "  notebook           pkgs/main/linux-64::notebook-6.5.4-py38h06a4308_1\n",
            "  notebook-shim      pkgs/main/linux-64::notebook-shim-0.2.2-py38h06a4308_0\n",
            "  nspr               pkgs/main/linux-64::nspr-4.35-h6a678d5_0\n",
            "  nss                pkgs/main/linux-64::nss-3.89.1-h6a678d5_0\n",
            "  packaging          pkgs/main/linux-64::packaging-23.1-py38h06a4308_0\n",
            "  pandocfilters      pkgs/main/noarch::pandocfilters-1.5.0-pyhd3eb1b0_0\n",
            "  parso              pkgs/main/noarch::parso-0.8.3-pyhd3eb1b0_0\n",
            "  pcre               pkgs/main/linux-64::pcre-8.45-h295c915_0\n",
            "  pexpect            pkgs/main/noarch::pexpect-4.8.0-pyhd3eb1b0_3\n",
            "  pickleshare        pkgs/main/noarch::pickleshare-0.7.5-pyhd3eb1b0_1003\n",
            "  pkgutil-resolve-n~ pkgs/main/linux-64::pkgutil-resolve-name-1.3.10-py38h06a4308_0\n",
            "  platformdirs       pkgs/main/linux-64::platformdirs-3.10.0-py38h06a4308_0\n",
            "  ply                pkgs/main/linux-64::ply-3.11-py38_0\n",
            "  prometheus_client  pkgs/main/linux-64::prometheus_client-0.14.1-py38h06a4308_0\n",
            "  prompt-toolkit     pkgs/main/linux-64::prompt-toolkit-3.0.36-py38h06a4308_0\n",
            "  prompt_toolkit     pkgs/main/noarch::prompt_toolkit-3.0.36-hd3eb1b0_0\n",
            "  psutil             pkgs/main/linux-64::psutil-5.9.0-py38h5eee18b_0\n",
            "  ptyprocess         pkgs/main/noarch::ptyprocess-0.7.0-pyhd3eb1b0_2\n",
            "  pure_eval          pkgs/main/noarch::pure_eval-0.2.2-pyhd3eb1b0_0\n",
            "  pygments           pkgs/main/linux-64::pygments-2.15.1-py38h06a4308_1\n",
            "  pyqt               pkgs/main/linux-64::pyqt-5.15.7-py38h6a678d5_1\n",
            "  pyqt5-sip          pkgs/main/linux-64::pyqt5-sip-12.11.0-py38h6a678d5_1\n",
            "  pyrsistent         pkgs/main/linux-64::pyrsistent-0.18.0-py38heee7806_0\n",
            "  python-dateutil    pkgs/main/noarch::python-dateutil-2.8.2-pyhd3eb1b0_0\n",
            "  python-fastjsonsc~ pkgs/main/linux-64::python-fastjsonschema-2.16.2-py38h06a4308_0\n",
            "  pytz               pkgs/main/linux-64::pytz-2023.3.post1-py38h06a4308_0\n",
            "  pyzmq              pkgs/main/linux-64::pyzmq-23.2.0-py38h6a678d5_0\n",
            "  qt-main            pkgs/main/linux-64::qt-main-5.15.2-h5b8104b_9\n",
            "  qt-webengine       pkgs/main/linux-64::qt-webengine-5.15.9-h9ab4d14_7\n",
            "  qtconsole          pkgs/main/linux-64::qtconsole-5.4.2-py38h06a4308_0\n",
            "  qtpy               pkgs/main/linux-64::qtpy-2.2.0-py38h06a4308_0\n",
            "  qtwebkit           pkgs/main/linux-64::qtwebkit-5.212-h3fafdc1_5\n",
            "  send2trash         pkgs/main/noarch::send2trash-1.8.0-pyhd3eb1b0_1\n",
            "  sip                pkgs/main/linux-64::sip-6.6.2-py38h6a678d5_0\n",
            "  sniffio            pkgs/main/linux-64::sniffio-1.2.0-py38h06a4308_1\n",
            "  soupsieve          pkgs/main/linux-64::soupsieve-2.4-py38h06a4308_0\n",
            "  stack_data         pkgs/main/noarch::stack_data-0.2.0-pyhd3eb1b0_0\n",
            "  terminado          pkgs/main/linux-64::terminado-0.17.1-py38h06a4308_0\n",
            "  tinycss2           pkgs/main/linux-64::tinycss2-1.2.1-py38h06a4308_0\n",
            "  toml               pkgs/main/noarch::toml-0.10.2-pyhd3eb1b0_0\n",
            "  tornado            pkgs/main/linux-64::tornado-6.3.2-py38h5eee18b_0\n",
            "  traitlets          pkgs/main/linux-64::traitlets-5.7.1-py38h06a4308_0\n",
            "  typing-extensions  pkgs/main/linux-64::typing-extensions-4.7.1-py38h06a4308_0\n",
            "  typing_extensions  pkgs/main/linux-64::typing_extensions-4.7.1-py38h06a4308_0\n",
            "  wcwidth            pkgs/main/noarch::wcwidth-0.2.5-pyhd3eb1b0_0\n",
            "  webencodings       pkgs/main/linux-64::webencodings-0.5.1-py38_1\n",
            "  websocket-client   pkgs/main/linux-64::websocket-client-0.58.0-py38h06a4308_4\n",
            "  widgetsnbextension pkgs/main/linux-64::widgetsnbextension-4.0.5-py38h06a4308_0\n",
            "  zeromq             pkgs/main/linux-64::zeromq-4.3.4-h2531618_0\n",
            "  zipp               pkgs/main/linux-64::zipp-3.11.0-py38h06a4308_0\n",
            "  zstd               pkgs/main/linux-64::zstd-1.5.5-hc292b87_0\n",
            "\n",
            "The following packages will be UPDATED:\n",
            "\n",
            "  ca-certificates                                2020.1.1-0 --> 2023.08.22-h06a4308_0\n",
            "  certifi                                 2019.11.28-py38_0 --> 2023.7.22-py38h06a4308_0\n",
            "  libedit                           3.1.20181209-hc058e9b_0 --> 3.1.20221030-h5eee18b_0\n",
            "  libffi                                   3.2.1-hd88cf55_4 --> 3.4.4-h6a678d5_0\n",
            "  libgcc-ng                                9.1.0-hdf63c60_0 --> 11.2.0-h1234567_1\n",
            "  libstdcxx-ng                             9.1.0-hdf63c60_0 --> 11.2.0-h1234567_1\n",
            "  ncurses                                    6.2-he6710b0_0 --> 6.4-h6a678d5_0\n",
            "  openssl                                 1.1.1d-h7b6447c_4 --> 1.1.1w-h7f8727e_0\n",
            "  python                                   3.8.1-h0371630_1 --> 3.8.18-h7a1cb2a_0\n",
            "  readline                                   7.0-h7b6447c_5 --> 8.2-h5eee18b_0\n",
            "  sqlite                                  3.31.1-h7b6447c_0 --> 3.41.2-h5eee18b_0\n",
            "  tk                                       8.6.8-hbc83047_0 --> 8.6.12-h1ccaba5_0\n",
            "  xz                                       5.2.4-h14c3975_4 --> 5.4.2-h5eee18b_0\n",
            "  zlib                                    1.2.11-h7b6447c_3 --> 1.2.13-h5eee18b_0\n",
            "\n",
            "\n",
            "Preparing transaction: ...working... done\n",
            "Verifying transaction: ...working... done\n",
            "Executing transaction: ...working... done\n",
            "Collecting package metadata (current_repodata.json): ...working... done\n",
            "Solving environment: ...working... \n",
            "The environment is inconsistent, please check the package plan carefully\n",
            "The following packages are causing the inconsistency:\n",
            "\n",
            "  - defaults/linux-64::typing-extensions==4.7.1=py38h06a4308_0\n",
            "  - defaults/linux-64::jupyter_core==5.3.0=py38h06a4308_0\n",
            "  - defaults/linux-64::nbclassic==0.5.5=py38h06a4308_0\n",
            "  - defaults/linux-64::libxml2==2.10.4=hcbfbd50_0\n",
            "  - defaults/linux-64::anyio==3.5.0=py38h06a4308_0\n",
            "  - defaults/linux-64::wheel==0.34.2=py38_0\n",
            "  - defaults/noarch::importlib_resources==5.2.0=pyhd3eb1b0_1\n",
            "  - defaults/noarch::ptyprocess==0.7.0=pyhd3eb1b0_2\n",
            "  - defaults/linux-64::chardet==3.0.4=py38_1003\n",
            "  - defaults/noarch::ipython_genutils==0.2.0=pyhd3eb1b0_1\n",
            "  - defaults/noarch::decorator==5.1.1=pyhd3eb1b0_0\n",
            "  - defaults/linux-64::jupyter_console==6.6.3=py38h06a4308_0\n",
            "  - defaults/linux-64::libpq==12.15=h37d81fd_1\n",
            "  - defaults/linux-64::zstd==1.5.5=hc292b87_0\n",
            "  - defaults/linux-64::platformdirs==3.10.0=py38h06a4308_0\n",
            "  - defaults/linux-64::libdeflate==1.17=h5eee18b_0\n",
            "  - defaults/linux-64::gstreamer==1.14.1=h5eee18b_1\n",
            "  - defaults/linux-64::libclang13==14.0.6=default_he11475f_1\n",
            "  - defaults/linux-64::ipython==8.12.2=py38h06a4308_0\n",
            "  - defaults/linux-64::ruamel_yaml==0.15.87=py38h7b6447c_0\n",
            "  - defaults/linux-64::mysql==5.7.24=he378463_2\n",
            "  - defaults/linux-64::pyqt5-sip==12.11.0=py38h6a678d5_1\n",
            "  - defaults/linux-64::libxcb==1.15=h7f8727e_0\n",
            "  - defaults/noarch::jupyterlab_server==2.10.3=pyhd3eb1b0_1\n",
            "  - defaults/linux-64::argon2-cffi-bindings==21.2.0=py38h7f8727e_0\n",
            "  - defaults/linux-64::beautifulsoup4==4.12.2=py38h06a4308_0\n",
            "  - defaults/linux-64::comm==0.1.2=py38h06a4308_0\n",
            "  - defaults/linux-64::pygments==2.15.1=py38h06a4308_1\n",
            "  - defaults/linux-64::openssl==1.1.1w=h7f8727e_0\n",
            "  - defaults/linux-64::nest-asyncio==1.5.6=py38h06a4308_0\n",
            "  - defaults/linux-64::widgetsnbextension==4.0.5=py38h06a4308_0\n",
            "  - defaults/linux-64::qtconsole==5.4.2=py38h06a4308_0\n",
            "  - defaults/linux-64::urllib3==1.25.8=py38_0\n",
            "  - defaults/linux-64::tornado==6.3.2=py38h5eee18b_0\n",
            "  - defaults/linux-64::jupyterlab_widgets==3.0.5=py38h06a4308_0\n",
            "  - defaults/noarch::asttokens==2.0.5=pyhd3eb1b0_0\n",
            "  - defaults/linux-64::cyrus-sasl==2.1.28=h9c0eb46_1\n",
            "  - defaults/linux-64::requests==2.22.0=py38_1\n",
            "  - defaults/linux-64::zlib==1.2.13=h5eee18b_0\n",
            "  - defaults/linux-64::pysocks==1.7.1=py38_0\n",
            "  - defaults/linux-64::xz==5.4.2=h5eee18b_0\n",
            "  - defaults/linux-64::freetype==2.12.1=h4a9f257_0\n",
            "  - defaults/linux-64::jpeg==9e=h5eee18b_1\n",
            "  - defaults/linux-64::qtwebkit==5.212=h3fafdc1_5\n",
            "  - defaults/noarch::stack_data==0.2.0=pyhd3eb1b0_0\n",
            "  - defaults/linux-64::psutil==5.9.0=py38h5eee18b_0\n",
            "  - defaults/linux-64::packaging==23.1=py38h06a4308_0\n",
            "  - defaults/linux-64::nbconvert==6.5.4=py38h06a4308_0\n",
            "  - defaults/linux-64::typing_extensions==4.7.1=py38h06a4308_0\n",
            "  - defaults/noarch::json5==0.9.6=pyhd3eb1b0_0\n",
            "  - defaults/linux-64::glib==2.69.1=he621ea3_2\n",
            "  - defaults/noarch::parso==0.8.3=pyhd3eb1b0_0\n",
            "  - defaults/linux-64::nbclient==0.5.13=py38h06a4308_0\n",
            "  - defaults/linux-64::asn1crypto==1.3.0=py38_0\n",
            "  - defaults/linux-64::jupyter_server==1.23.4=py38h06a4308_0\n",
            "  - defaults/linux-64::lz4-c==1.9.4=h6a678d5_0\n",
            "  - defaults/linux-64::gst-plugins-base==1.14.1=h6a678d5_1\n",
            "  - defaults/linux-64::libuuid==1.41.5=h5eee18b_0\n",
            "  - defaults/noarch::jupyterlab_pygments==0.1.2=py_0\n",
            "  - defaults/linux-64::ncurses==6.4=h6a678d5_0\n",
            "  - defaults/linux-64::pyzmq==23.2.0=py38h6a678d5_0\n",
            "  - defaults/linux-64::pytz==2023.3.post1=py38h06a4308_0\n",
            "  - defaults/linux-64::soupsieve==2.4=py38h06a4308_0\n",
            "  - defaults/linux-64::entrypoints==0.4=py38h06a4308_0\n",
            "  - defaults/linux-64::giflib==5.2.1=h5eee18b_3\n",
            "  - defaults/linux-64::pkgutil-resolve-name==1.3.10=py38h06a4308_0\n",
            "  - defaults/linux-64::zeromq==4.3.4=h2531618_0\n",
            "  - defaults/linux-64::jinja2==3.1.2=py38h06a4308_0\n",
            "  - defaults/linux-64::libpng==1.6.39=h5eee18b_0\n",
            "  - defaults/linux-64::attrs==23.1.0=py38h06a4308_0\n",
            "  - defaults/linux-64::readline==8.2=h5eee18b_0\n",
            "  - defaults/linux-64::python-fastjsonschema==2.16.2=py38h06a4308_0\n",
            "  - defaults/linux-64::pip==20.0.2=py38_1\n",
            "  - defaults/linux-64::sqlite==3.41.2=h5eee18b_0\n",
            "  - defaults/linux-64::pcre==8.45=h295c915_0\n",
            "  - defaults/linux-64::tinycss2==1.2.1=py38h06a4308_0\n",
            "  - defaults/linux-64::prompt-toolkit==3.0.36=py38h06a4308_0\n",
            "  - defaults/linux-64::icu==58.2=he6710b0_3\n",
            "  - defaults/linux-64::nss==3.89.1=h6a678d5_0\n",
            "  - defaults/linux-64::mistune==0.8.4=py38h7b6447c_1000\n",
            "  - defaults/linux-64::libllvm14==14.0.6=hdb19cb5_3\n",
            "  - defaults/noarch::python-dateutil==2.8.2=pyhd3eb1b0_0\n",
            "  - defaults/linux-64::yaml==0.1.7=had09818_2\n",
            "  - defaults/linux-64::pyopenssl==19.1.0=py38_0\n",
            "  - defaults/linux-64::libxkbcommon==1.0.1=h5eee18b_1\n",
            "  - defaults/linux-64::libedit==3.1.20221030=h5eee18b_0\n",
            "  - defaults/linux-64::babel==2.11.0=py38h06a4308_0\n",
            "  - defaults/linux-64::libgcc-ng==11.2.0=h1234567_1\n",
            "  - defaults/noarch::toml==0.10.2=pyhd3eb1b0_0\n",
            "  - defaults/noarch::pexpect==4.8.0=pyhd3eb1b0_3\n",
            "  - defaults/linux-64::prometheus_client==0.14.1=py38h06a4308_0\n",
            "  - defaults/linux-64::libffi==3.4.4=h6a678d5_0\n",
            "  - defaults/linux-64::setuptools==45.2.0=py38_0\n",
            "  - defaults/linux-64::matplotlib-inline==0.1.6=py38h06a4308_0\n",
            "  - defaults/linux-64::websocket-client==0.58.0=py38h06a4308_4\n",
            "  - defaults/linux-64::python==3.8.18=h7a1cb2a_0\n",
            "  - defaults/linux-64::expat==2.5.0=h6a678d5_0\n",
            "  - defaults/linux-64::libxslt==1.1.37=h2085143_0\n",
            "  - defaults/linux-64::ipywidgets==8.0.4=py38h06a4308_0\n",
            "  - defaults/linux-64::qt-main==5.15.2=h5b8104b_9\n",
            "  - defaults/noarch::pure_eval==0.2.2=pyhd3eb1b0_0\n",
            "  - defaults/linux-64::sniffio==1.2.0=py38h06a4308_1\n",
            "  - defaults/linux-64::tk==8.6.12=h1ccaba5_0\n",
            "  - defaults/noarch::jupyterlab==3.3.2=pyhd3eb1b0_0\n",
            "  - defaults/noarch::send2trash==1.8.0=pyhd3eb1b0_1\n",
            "  - defaults/linux-64::idna==2.8=py38_1000\n",
            "  - defaults/linux-64::krb5==1.20.1=h568e23c_1\n",
            "  - defaults/linux-64::cffi==1.14.0=py38h2e261b9_0\n",
            "  - defaults/linux-64::pycosat==0.6.3=py38h7b6447c_0\n",
            "  - defaults/noarch::defusedxml==0.7.1=pyhd3eb1b0_0\n",
            "  - defaults/linux-64::qt-webengine==5.15.9=h9ab4d14_7\n",
            "  - defaults/linux-64::zipp==3.11.0=py38h06a4308_0\n",
            "  - defaults/linux-64::libtiff==4.5.1=h6a678d5_0\n",
            "  - defaults/linux-64::terminado==0.17.1=py38h06a4308_0\n",
            "  - defaults/linux-64::sip==6.6.2=py38h6a678d5_0\n",
            "  - defaults/linux-64::libsodium==1.0.18=h7b6447c_0\n",
            "  - defaults/linux-64::ply==3.11=py38_0\n",
            "  - defaults/linux-64::notebook==6.5.4=py38h06a4308_1\n",
            "  - defaults/linux-64::nbformat==5.9.2=py38h06a4308_0\n",
            "  - defaults/linux-64::certifi==2023.7.22=py38h06a4308_0\n",
            "  - defaults/linux-64::cryptography==2.8=py38h1ba5d50_0\n",
            "  - defaults/linux-64::libstdcxx-ng==11.2.0=h1234567_1\n",
            "  - defaults/linux-64::lerc==3.0=h295c915_0\n",
            "  - defaults/noarch::executing==0.8.3=pyhd3eb1b0_0\n",
            "  - defaults/linux-64::markupsafe==2.1.1=py38h7f8727e_0\n",
            "  - defaults/linux-64::conda-package-handling==1.6.0=py38h7b6447c_0\n",
            "  - defaults/linux-64::notebook-shim==0.2.2=py38h06a4308_0\n",
            "  - defaults/linux-64::libwebp==1.3.2=h11a3e52_0\n",
            "  - defaults/linux-64::jupyter==1.0.0=py38h06a4308_8\n",
            "  - defaults/noarch::argon2-cffi==21.3.0=pyhd3eb1b0_0\n",
            "  - defaults/linux-64::pyrsistent==0.18.0=py38heee7806_0\n",
            "  - defaults/linux-64::pyqt==5.15.7=py38h6a678d5_1\n",
            "  - defaults/linux-64::nspr==4.35=h6a678d5_0\n",
            "  - defaults/noarch::pandocfilters==1.5.0=pyhd3eb1b0_0\n",
            "  - defaults/linux-64::dbus==1.13.18=hb2f20db_0\n",
            "  - defaults/linux-64::lxml==4.9.3=py38hdbbb534_0\n",
            "  - defaults/linux-64::webencodings==0.5.1=py38_1\n",
            "  - defaults/linux-64::libwebp-base==1.3.2=h5eee18b_0\n",
            "  - defaults/linux-64::ipykernel==6.25.0=py38h2f386ee_0\n",
            "  - defaults/linux-64::conda==4.8.2=py38_0\n",
            "  - defaults/linux-64::jsonschema==4.17.3=py38h06a4308_0\n",
            "  - defaults/noarch::bleach==4.1.0=pyhd3eb1b0_0\n",
            "  - defaults/noarch::wcwidth==0.2.5=pyhd3eb1b0_0\n",
            "  - defaults/linux-64::qtpy==2.2.0=py38h06a4308_0\n",
            "  - defaults/linux-64::six==1.14.0=py38_0\n",
            "  - defaults/linux-64::traitlets==5.7.1=py38h06a4308_0\n",
            "  - defaults/linux-64::debugpy==1.6.7=py38h6a678d5_0\n",
            "  - defaults/noarch::prompt_toolkit==3.0.36=hd3eb1b0_0\n",
            "  - defaults/linux-64::libcups==2.4.2=ha637b67_0\n",
            "  - defaults/linux-64::jedi==0.18.1=py38h06a4308_1\n",
            "  - defaults/linux-64::fontconfig==2.14.1=h4c34cd2_2\n",
            "  - defaults/noarch::pycparser==2.19=py_0\n",
            "  - defaults/linux-64::libevent==2.1.12=h8f2d780_0\n",
            "  - defaults/linux-64::libclang==14.0.6=default_hc6dbbc7_1\n",
            "  - defaults/linux-64::jupyter_client==7.4.9=py38h06a4308_0\n",
            "  - defaults/noarch::tqdm==4.42.1=py_0\n",
            "  - defaults/noarch::backcall==0.2.0=pyhd3eb1b0_0\n",
            "  - defaults/noarch::pickleshare==0.7.5=pyhd3eb1b0_1003\n",
            "\n",
            "Warning: 2 possible package resolutions (only showing differing packages):\n",
            "  - conda-forge/linux-64::aiohttp-3.8.1-py38h0a891b7_1, defaults/noarch::charset-normalizer-2.0.4-pyhd3eb1b0_0\n",
            "  - conda-forge/noarch::charset-normalizer-3.2.0-pyhd8ed1ab_0, defaults/linux-64::aiohttp-3.8.5-py38h5eee18b_0done\n",
            "\n",
            "## Package Plan ##\n",
            "\n",
            "  environment location: /usr/local\n",
            "\n",
            "  added / updated specs:\n",
            "    - google-colab\n",
            "\n",
            "\n",
            "The following packages will be downloaded:\n",
            "\n",
            "    package                    |            build\n",
            "    ---------------------------|-----------------\n",
            "    aiohttp-3.8.1              |   py38h0a891b7_1         574 KB  conda-forge\n",
            "    aiosignal-1.3.1            |     pyhd8ed1ab_0          12 KB  conda-forge\n",
            "    async-timeout-4.0.3        |     pyhd8ed1ab_0          11 KB  conda-forge\n",
            "    ca-certificates-2023.7.22  |       hbcca054_0         146 KB  conda-forge\n",
            "    cachetools-5.3.1           |     pyhd8ed1ab_0          14 KB  conda-forge\n",
            "    charset-normalizer-2.0.4   |     pyhd3eb1b0_0          35 KB\n",
            "    cryptography-3.4.8         |   py38h3e25421_1         1.1 MB  conda-forge\n",
            "    frozenlist-1.3.3           |   py38h5eee18b_0          45 KB\n",
            "    google-auth-2.23.0         |     pyh1a96a4e_0          99 KB  conda-forge\n",
            "    google-colab-1.0.0         |     pyh44b312d_0          77 KB  conda-forge\n",
            "    libblas-3.9.0              |15_linux64_openblas          12 KB  conda-forge\n",
            "    libcblas-3.9.0             |15_linux64_openblas          12 KB  conda-forge\n",
            "    libgfortran-ng-13.2.0      |       h69a702a_0          23 KB  conda-forge\n",
            "    libgfortran5-13.2.0        |       ha4646dd_0         1.4 MB  conda-forge\n",
            "    liblapack-3.9.0            |15_linux64_openblas          12 KB  conda-forge\n",
            "    libopenblas-0.3.20         |pthreads_h78a6416_0        10.1 MB  conda-forge\n",
            "    multidict-6.0.2            |   py38h5eee18b_0          49 KB\n",
            "    numpy-1.22.3               |   py38h99721a1_2         6.8 MB  conda-forge\n",
            "    pandas-1.3.5               |   py38h43a58ef_0        13.0 MB  conda-forge\n",
            "    portpicker-1.6.0           |     pyhd8ed1ab_0          20 KB  conda-forge\n",
            "    pyasn1-0.5.0               |     pyhd8ed1ab_0          61 KB  conda-forge\n",
            "    pyasn1-modules-0.3.0       |     pyhd8ed1ab_0          93 KB  conda-forge\n",
            "    pyopenssl-20.0.1           |     pyhd8ed1ab_0          48 KB  conda-forge\n",
            "    python_abi-3.8             |           2_cp38           4 KB  conda-forge\n",
            "    pyu2f-0.1.5                |     pyhd8ed1ab_0          31 KB  conda-forge\n",
            "    rsa-4.9                    |     pyhd8ed1ab_0          29 KB  conda-forge\n",
            "    yarl-1.7.2                 |   py38h0a891b7_2         133 KB  conda-forge\n",
            "    ------------------------------------------------------------\n",
            "                                           Total:        33.9 MB\n",
            "\n",
            "The following NEW packages will be INSTALLED:\n",
            "\n",
            "  aiohttp            conda-forge/linux-64::aiohttp-3.8.1-py38h0a891b7_1\n",
            "  aiosignal          conda-forge/noarch::aiosignal-1.3.1-pyhd8ed1ab_0\n",
            "  async-timeout      conda-forge/noarch::async-timeout-4.0.3-pyhd8ed1ab_0\n",
            "  cachetools         conda-forge/noarch::cachetools-5.3.1-pyhd8ed1ab_0\n",
            "  charset-normalizer pkgs/main/noarch::charset-normalizer-2.0.4-pyhd3eb1b0_0\n",
            "  frozenlist         pkgs/main/linux-64::frozenlist-1.3.3-py38h5eee18b_0\n",
            "  google-auth        conda-forge/noarch::google-auth-2.23.0-pyh1a96a4e_0\n",
            "  google-colab       conda-forge/noarch::google-colab-1.0.0-pyh44b312d_0\n",
            "  libblas            conda-forge/linux-64::libblas-3.9.0-15_linux64_openblas\n",
            "  libcblas           conda-forge/linux-64::libcblas-3.9.0-15_linux64_openblas\n",
            "  libgfortran-ng     conda-forge/linux-64::libgfortran-ng-13.2.0-h69a702a_0\n",
            "  libgfortran5       conda-forge/linux-64::libgfortran5-13.2.0-ha4646dd_0\n",
            "  liblapack          conda-forge/linux-64::liblapack-3.9.0-15_linux64_openblas\n",
            "  libopenblas        conda-forge/linux-64::libopenblas-0.3.20-pthreads_h78a6416_0\n",
            "  multidict          pkgs/main/linux-64::multidict-6.0.2-py38h5eee18b_0\n",
            "  numpy              conda-forge/linux-64::numpy-1.22.3-py38h99721a1_2\n",
            "  pandas             conda-forge/linux-64::pandas-1.3.5-py38h43a58ef_0\n",
            "  portpicker         conda-forge/noarch::portpicker-1.6.0-pyhd8ed1ab_0\n",
            "  pyasn1             conda-forge/noarch::pyasn1-0.5.0-pyhd8ed1ab_0\n",
            "  pyasn1-modules     conda-forge/noarch::pyasn1-modules-0.3.0-pyhd8ed1ab_0\n",
            "  python_abi         conda-forge/linux-64::python_abi-3.8-2_cp38\n",
            "  pyu2f              conda-forge/noarch::pyu2f-0.1.5-pyhd8ed1ab_0\n",
            "  rsa                conda-forge/noarch::rsa-4.9-pyhd8ed1ab_0\n",
            "  yarl               conda-forge/linux-64::yarl-1.7.2-py38h0a891b7_2\n",
            "\n",
            "The following packages will be UPDATED:\n",
            "\n",
            "  cryptography       pkgs/main::cryptography-2.8-py38h1ba5~ --> conda-forge::cryptography-3.4.8-py38h3e25421_1\n",
            "  pyopenssl          pkgs/main/linux-64::pyopenssl-19.1.0-~ --> conda-forge/noarch::pyopenssl-20.0.1-pyhd8ed1ab_0\n",
            "\n",
            "The following packages will be SUPERSEDED by a higher-priority channel:\n",
            "\n",
            "  ca-certificates    pkgs/main::ca-certificates-2023.08.22~ --> conda-forge::ca-certificates-2023.7.22-hbcca054_0\n",
            "\n",
            "\n",
            "Preparing transaction: ...working... done\n",
            "Verifying transaction: ...working... done\n",
            "Executing transaction: ...working... done\n",
            "Installed kernelspec py38 in /root/.local/share/jupyter/kernels/py38\n"
          ]
        }
      ],
      "source": [
        "!wget -O mini.sh https://repo.anaconda.com/miniconda/Miniconda3-py38_4.8.2-Linux-x86_64.sh\n",
        "!chmod +x mini.sh\n",
        "!bash ./mini.sh -b -f -p /usr/local\n",
        "!conda install -q -y jupyter\n",
        "!conda install -q -y google-colab -c conda-forge\n",
        "!python -m ipykernel install --name \"py38\" --user"
      ]
    },
    {
      "cell_type": "markdown",
      "source": [
        "## IMPORTANT!!\n",
        " Before you continue, reload the web page first!\n",
        " Then go to Runtime > Change runtime type > choose py38"
      ],
      "metadata": {
        "id": "WtLzq-VwWczv"
      }
    },
    {
      "cell_type": "markdown",
      "source": [
        "Check The version of python"
      ],
      "metadata": {
        "id": "HGUIP_0veN6-"
      }
    },
    {
      "cell_type": "code",
      "source": [
        "# If this shows python version 3.8, then you are good to go.\n",
        "import sys\n",
        "print(\"User Current Version:-\", sys.version)"
      ],
      "metadata": {
        "id": "AYEDC_L7yrUI",
        "colab": {
          "base_uri": "https://localhost:8080/"
        },
        "outputId": "bbd851d8-d3e7-4fd3-de56-41fcc305ae98"
      },
      "execution_count": 1,
      "outputs": [
        {
          "output_type": "stream",
          "name": "stdout",
          "text": [
            "User Current Version:- 3.8.18 (default, Sep 11 2023, 13:20:55) \n",
            "[GCC 11.2.0]\n"
          ]
        }
      ]
    },
    {
      "cell_type": "markdown",
      "source": [
        "Install spesific version of protobuff"
      ],
      "metadata": {
        "id": "y0b2jcIxeLqt"
      }
    },
    {
      "cell_type": "code",
      "source": [
        "# Install protobuf version 3.20.3\n",
        "# Restart the runtime if prompted\n",
        "!pip install protobuf==3.20.3"
      ],
      "metadata": {
        "id": "zZrHqa1OyyrQ",
        "colab": {
          "base_uri": "https://localhost:8080/",
          "height": 204
        },
        "outputId": "ee3ff138-6359-4bd2-dcf0-91a27ab8c6b9"
      },
      "execution_count": 2,
      "outputs": [
        {
          "output_type": "stream",
          "name": "stdout",
          "text": [
            "Collecting protobuf==3.20.3\n",
            "  Downloading protobuf-3.20.3-cp38-cp38-manylinux_2_5_x86_64.manylinux1_x86_64.whl (1.0 MB)\n",
            "\u001b[K     |████████████████████████████████| 1.0 MB 3.6 MB/s \n",
            "\u001b[?25hInstalling collected packages: protobuf\n",
            "Successfully installed protobuf-3.20.3\n"
          ]
        },
        {
          "output_type": "display_data",
          "data": {
            "application/vnd.colab-display-data+json": {
              "pip_warning": {
                "packages": [
                  "google"
                ]
              }
            }
          },
          "metadata": {}
        }
      ]
    },
    {
      "cell_type": "markdown",
      "source": [
        "Download requirement file that contain list of libary that I have to install"
      ],
      "metadata": {
        "id": "dv6IbZ7OGmkM"
      }
    },
    {
      "cell_type": "code",
      "source": [
        "!wget https://raw.githubusercontent.com/winayaid/TFD-Python-Environment/main/requirements.txt"
      ],
      "metadata": {
        "id": "CY0pzLP43yKv",
        "colab": {
          "base_uri": "https://localhost:8080/"
        },
        "outputId": "6d288b04-5e73-487b-978e-ac88476b546e"
      },
      "execution_count": 1,
      "outputs": [
        {
          "output_type": "stream",
          "name": "stdout",
          "text": [
            "--2023-09-26 23:39:03--  https://raw.githubusercontent.com/winayaid/TFD-Python-Environment/main/requirements.txt\n",
            "Resolving raw.githubusercontent.com (raw.githubusercontent.com)... 185.199.108.133, 185.199.109.133, 185.199.111.133, ...\n",
            "Connecting to raw.githubusercontent.com (raw.githubusercontent.com)|185.199.108.133|:443... connected.\n",
            "HTTP request sent, awaiting response... 200 OK\n",
            "Length: 100 [text/plain]\n",
            "Saving to: ‘requirements.txt’\n",
            "\n",
            "\rrequirements.txt      0%[                    ]       0  --.-KB/s               \rrequirements.txt    100%[===================>]     100  --.-KB/s    in 0s      \n",
            "\n",
            "2023-09-26 23:39:03 (7.17 MB/s) - ‘requirements.txt’ saved [100/100]\n",
            "\n"
          ]
        }
      ]
    },
    {
      "cell_type": "markdown",
      "source": [
        "Install library from requirement file"
      ],
      "metadata": {
        "id": "977o6wzregXo"
      }
    },
    {
      "cell_type": "code",
      "source": [
        "# Restart the runtime if prompted\n",
        "!pip install -r requirements.txt"
      ],
      "metadata": {
        "id": "DJNbg9RJy7BP",
        "colab": {
          "base_uri": "https://localhost:8080/",
          "height": 1000
        },
        "outputId": "dbaca3be-b1b2-4766-dcb8-2ea300306013"
      },
      "execution_count": 2,
      "outputs": [
        {
          "output_type": "stream",
          "name": "stdout",
          "text": [
            "Collecting tensorflow==2.9.0\n",
            "  Downloading tensorflow-2.9.0-cp38-cp38-manylinux_2_17_x86_64.manylinux2014_x86_64.whl (511.7 MB)\n",
            "\u001b[K     |████████████████████████████████| 511.7 MB 146 bytes/s \n",
            "\u001b[?25hCollecting tensorflow-datasets==4.6.0\n",
            "  Downloading tensorflow_datasets-4.6.0-py3-none-any.whl (4.3 MB)\n",
            "\u001b[K     |████████████████████████████████| 4.3 MB 52.0 MB/s \n",
            "\u001b[?25hCollecting Pillow==9.1.1\n",
            "  Downloading Pillow-9.1.1-cp38-cp38-manylinux_2_17_x86_64.manylinux2014_x86_64.whl (3.1 MB)\n",
            "\u001b[K     |████████████████████████████████| 3.1 MB 60.0 MB/s \n",
            "\u001b[?25hCollecting pandas==1.4.2\n",
            "  Downloading pandas-1.4.2-cp38-cp38-manylinux_2_17_x86_64.manylinux2014_x86_64.whl (11.7 MB)\n",
            "\u001b[K     |████████████████████████████████| 11.7 MB 170 kB/s \n",
            "\u001b[?25hCollecting numpy==1.22.4\n",
            "  Downloading numpy-1.22.4-cp38-cp38-manylinux_2_17_x86_64.manylinux2014_x86_64.whl (16.9 MB)\n",
            "\u001b[K     |████████████████████████████████| 16.9 MB 54.8 MB/s \n",
            "\u001b[?25hCollecting scipy==1.7.3\n",
            "  Downloading scipy-1.7.3-cp38-cp38-manylinux_2_17_x86_64.manylinux2014_x86_64.whl (39.3 MB)\n",
            "\u001b[K     |████████████████████████████████| 39.3 MB 1.1 MB/s \n",
            "\u001b[?25hCollecting absl-py>=1.0.0\n",
            "  Downloading absl_py-2.0.0-py3-none-any.whl (130 kB)\n",
            "\u001b[K     |████████████████████████████████| 130 kB 63.3 MB/s \n",
            "\u001b[?25hRequirement already satisfied: typing-extensions>=3.6.6 in /usr/local/lib/python3.8/site-packages (from tensorflow==2.9.0->-r requirements.txt (line 1)) (4.7.1)\n",
            "Requirement already satisfied: protobuf>=3.9.2 in /usr/local/lib/python3.8/site-packages (from tensorflow==2.9.0->-r requirements.txt (line 1)) (3.20.3)\n",
            "Collecting h5py>=2.9.0\n",
            "  Downloading h5py-3.9.0-cp38-cp38-manylinux_2_17_x86_64.manylinux2014_x86_64.whl (4.8 MB)\n",
            "\u001b[K     |████████████████████████████████| 4.8 MB 84.0 MB/s \n",
            "\u001b[?25hCollecting tensorflow-estimator<2.10.0,>=2.9.0rc0\n",
            "  Downloading tensorflow_estimator-2.9.0-py2.py3-none-any.whl (438 kB)\n",
            "\u001b[K     |████████████████████████████████| 438 kB 78.4 MB/s \n",
            "\u001b[?25hCollecting opt-einsum>=2.3.2\n",
            "  Downloading opt_einsum-3.3.0-py3-none-any.whl (65 kB)\n",
            "\u001b[K     |████████████████████████████████| 65 kB 3.8 MB/s \n",
            "\u001b[?25hRequirement already satisfied: setuptools in /usr/local/lib/python3.8/site-packages (from tensorflow==2.9.0->-r requirements.txt (line 1)) (45.2.0.post20200210)\n",
            "Collecting wrapt>=1.11.0\n",
            "  Downloading wrapt-1.15.0-cp38-cp38-manylinux_2_5_x86_64.manylinux1_x86_64.manylinux_2_17_x86_64.manylinux2014_x86_64.whl (81 kB)\n",
            "\u001b[K     |████████████████████████████████| 81 kB 9.6 MB/s \n",
            "\u001b[?25hCollecting tensorboard<2.10,>=2.9\n",
            "  Downloading tensorboard-2.9.1-py3-none-any.whl (5.8 MB)\n",
            "\u001b[K     |████████████████████████████████| 5.8 MB 82.8 MB/s \n",
            "\u001b[?25hRequirement already satisfied: packaging in /usr/local/lib/python3.8/site-packages (from tensorflow==2.9.0->-r requirements.txt (line 1)) (23.1)\n",
            "Collecting keras<2.10.0,>=2.9.0rc0\n",
            "  Downloading keras-2.9.0-py2.py3-none-any.whl (1.6 MB)\n",
            "\u001b[K     |████████████████████████████████| 1.6 MB 28.8 MB/s \n",
            "\u001b[?25hCollecting libclang>=13.0.0\n",
            "  Downloading libclang-16.0.6-py2.py3-none-manylinux2010_x86_64.whl (22.9 MB)\n",
            "\u001b[K     |████████████████████████████████| 22.9 MB 1.2 MB/s \n",
            "\u001b[?25hCollecting grpcio<2.0,>=1.24.3\n",
            "  Downloading grpcio-1.58.0-cp38-cp38-manylinux_2_17_x86_64.manylinux2014_x86_64.whl (5.3 MB)\n",
            "\u001b[K     |████████████████████████████████| 5.3 MB 85.5 MB/s \n",
            "\u001b[?25hCollecting astunparse>=1.6.0\n",
            "  Downloading astunparse-1.6.3-py2.py3-none-any.whl (12 kB)\n",
            "Collecting termcolor>=1.1.0\n",
            "  Downloading termcolor-2.3.0-py3-none-any.whl (6.9 kB)\n",
            "Collecting google-pasta>=0.1.1\n",
            "  Downloading google_pasta-0.2.0-py3-none-any.whl (57 kB)\n",
            "\u001b[K     |████████████████████████████████| 57 kB 4.9 MB/s \n",
            "\u001b[?25hRequirement already satisfied: six>=1.12.0 in /usr/local/lib/python3.8/site-packages (from tensorflow==2.9.0->-r requirements.txt (line 1)) (1.14.0)\n",
            "Collecting tensorflow-io-gcs-filesystem>=0.23.1\n",
            "  Downloading tensorflow_io_gcs_filesystem-0.34.0-cp38-cp38-manylinux_2_12_x86_64.manylinux2010_x86_64.whl (2.4 MB)\n",
            "\u001b[K     |████████████████████████████████| 2.4 MB 53.6 MB/s \n",
            "\u001b[?25hCollecting flatbuffers<2,>=1.12\n",
            "  Downloading flatbuffers-1.12-py2.py3-none-any.whl (15 kB)\n",
            "Collecting keras-preprocessing>=1.1.1\n",
            "  Downloading Keras_Preprocessing-1.1.2-py2.py3-none-any.whl (42 kB)\n",
            "\u001b[K     |████████████████████████████████| 42 kB 1.2 MB/s \n",
            "\u001b[?25hCollecting gast<=0.4.0,>=0.2.1\n",
            "  Downloading gast-0.4.0-py3-none-any.whl (9.8 kB)\n",
            "Requirement already satisfied: requests>=2.19.0 in /usr/local/lib/python3.8/site-packages (from tensorflow-datasets==4.6.0->-r requirements.txt (line 2)) (2.22.0)\n",
            "Collecting promise\n",
            "  Downloading promise-2.3.tar.gz (19 kB)\n",
            "Requirement already satisfied: tqdm in /usr/local/lib/python3.8/site-packages (from tensorflow-datasets==4.6.0->-r requirements.txt (line 2)) (4.42.1)\n",
            "Collecting dill\n",
            "  Downloading dill-0.3.7-py3-none-any.whl (115 kB)\n",
            "\u001b[K     |████████████████████████████████| 115 kB 52.5 MB/s \n",
            "\u001b[?25hRequirement already satisfied: toml in /usr/local/lib/python3.8/site-packages (from tensorflow-datasets==4.6.0->-r requirements.txt (line 2)) (0.10.2)\n",
            "Collecting etils[epath]\n",
            "  Downloading etils-1.3.0-py3-none-any.whl (126 kB)\n",
            "\u001b[K     |████████████████████████████████| 126 kB 59.1 MB/s \n",
            "\u001b[?25hRequirement already satisfied: importlib-resources; python_version < \"3.9\" in /usr/local/lib/python3.8/site-packages (from tensorflow-datasets==4.6.0->-r requirements.txt (line 2)) (5.2.0)\n",
            "Collecting tensorflow-metadata\n",
            "  Downloading tensorflow_metadata-1.14.0-py3-none-any.whl (28 kB)\n",
            "Requirement already satisfied: pytz>=2020.1 in /usr/local/lib/python3.8/site-packages (from pandas==1.4.2->-r requirements.txt (line 4)) (2023.3.post1)\n",
            "Requirement already satisfied: python-dateutil>=2.8.1 in /usr/local/lib/python3.8/site-packages (from pandas==1.4.2->-r requirements.txt (line 4)) (2.8.2)\n",
            "Requirement already satisfied: google-auth<3,>=1.6.3 in /usr/local/lib/python3.8/site-packages (from tensorboard<2.10,>=2.9->tensorflow==2.9.0->-r requirements.txt (line 1)) (2.23.0)\n",
            "Collecting google-auth-oauthlib<0.5,>=0.4.1\n",
            "  Downloading google_auth_oauthlib-0.4.6-py2.py3-none-any.whl (18 kB)\n",
            "Collecting werkzeug>=1.0.1\n",
            "  Downloading werkzeug-2.3.7-py3-none-any.whl (242 kB)\n",
            "\u001b[K     |████████████████████████████████| 242 kB 58.8 MB/s \n",
            "\u001b[?25hCollecting tensorboard-data-server<0.7.0,>=0.6.0\n",
            "  Downloading tensorboard_data_server-0.6.1-py3-none-manylinux2010_x86_64.whl (4.9 MB)\n",
            "\u001b[K     |████████████████████████████████| 4.9 MB 57.0 MB/s \n",
            "\u001b[?25hCollecting tensorboard-plugin-wit>=1.6.0\n",
            "  Downloading tensorboard_plugin_wit-1.8.1-py3-none-any.whl (781 kB)\n",
            "\u001b[K     |████████████████████████████████| 781 kB 53.9 MB/s \n",
            "\u001b[?25hRequirement already satisfied: wheel>=0.26 in /usr/local/lib/python3.8/site-packages (from tensorboard<2.10,>=2.9->tensorflow==2.9.0->-r requirements.txt (line 1)) (0.34.2)\n",
            "Collecting markdown>=2.6.8\n",
            "  Downloading Markdown-3.4.4-py3-none-any.whl (94 kB)\n",
            "\u001b[K     |████████████████████████████████| 94 kB 2.8 MB/s \n",
            "\u001b[?25hRequirement already satisfied: idna<2.9,>=2.5 in /usr/local/lib/python3.8/site-packages (from requests>=2.19.0->tensorflow-datasets==4.6.0->-r requirements.txt (line 2)) (2.8)\n",
            "Requirement already satisfied: urllib3!=1.25.0,!=1.25.1,<1.26,>=1.21.1 in /usr/local/lib/python3.8/site-packages (from requests>=2.19.0->tensorflow-datasets==4.6.0->-r requirements.txt (line 2)) (1.25.8)\n",
            "Requirement already satisfied: certifi>=2017.4.17 in /usr/local/lib/python3.8/site-packages (from requests>=2.19.0->tensorflow-datasets==4.6.0->-r requirements.txt (line 2)) (2023.7.22)\n",
            "Requirement already satisfied: chardet<3.1.0,>=3.0.2 in /usr/local/lib/python3.8/site-packages (from requests>=2.19.0->tensorflow-datasets==4.6.0->-r requirements.txt (line 2)) (3.0.4)\n",
            "Requirement already satisfied: zipp; extra == \"epath\" in /usr/local/lib/python3.8/site-packages (from etils[epath]->tensorflow-datasets==4.6.0->-r requirements.txt (line 2)) (3.11.0)\n",
            "Collecting googleapis-common-protos<2,>=1.52.0\n",
            "  Downloading googleapis_common_protos-1.60.0-py2.py3-none-any.whl (227 kB)\n",
            "\u001b[K     |████████████████████████████████| 227 kB 53.0 MB/s \n",
            "\u001b[?25hRequirement already satisfied: pyasn1-modules>=0.2.1 in /usr/local/lib/python3.8/site-packages (from google-auth<3,>=1.6.3->tensorboard<2.10,>=2.9->tensorflow==2.9.0->-r requirements.txt (line 1)) (0.3.0)\n",
            "Requirement already satisfied: rsa<5,>=3.1.4 in /usr/local/lib/python3.8/site-packages (from google-auth<3,>=1.6.3->tensorboard<2.10,>=2.9->tensorflow==2.9.0->-r requirements.txt (line 1)) (4.9)\n",
            "Requirement already satisfied: cachetools<6.0,>=2.0.0 in /usr/local/lib/python3.8/site-packages (from google-auth<3,>=1.6.3->tensorboard<2.10,>=2.9->tensorflow==2.9.0->-r requirements.txt (line 1)) (5.3.1)\n",
            "Collecting requests-oauthlib>=0.7.0\n",
            "  Downloading requests_oauthlib-1.3.1-py2.py3-none-any.whl (23 kB)\n",
            "Requirement already satisfied: MarkupSafe>=2.1.1 in /usr/local/lib/python3.8/site-packages (from werkzeug>=1.0.1->tensorboard<2.10,>=2.9->tensorflow==2.9.0->-r requirements.txt (line 1)) (2.1.1)\n",
            "Collecting importlib-metadata>=4.4; python_version < \"3.10\"\n",
            "  Downloading importlib_metadata-6.8.0-py3-none-any.whl (22 kB)\n",
            "Requirement already satisfied: pyasn1<0.6.0,>=0.4.6 in /usr/local/lib/python3.8/site-packages (from pyasn1-modules>=0.2.1->google-auth<3,>=1.6.3->tensorboard<2.10,>=2.9->tensorflow==2.9.0->-r requirements.txt (line 1)) (0.5.0)\n",
            "Collecting oauthlib>=3.0.0\n",
            "  Downloading oauthlib-3.2.2-py3-none-any.whl (151 kB)\n",
            "\u001b[K     |████████████████████████████████| 151 kB 54.6 MB/s \n",
            "\u001b[?25hBuilding wheels for collected packages: promise\n",
            "  Building wheel for promise (setup.py) ... \u001b[?25l\u001b[?25hdone\n",
            "  Created wheel for promise: filename=promise-2.3-py3-none-any.whl size=21495 sha256=081df55b06f9117dc3f3d615aa4d3b0f98cbfd88465911203693b50c4b837ef3\n",
            "  Stored in directory: /root/.cache/pip/wheels/54/aa/01/724885182f93150035a2a91bce34a12877e8067a97baaf5dc8\n",
            "Successfully built promise\n",
            "\u001b[31mERROR: tensorboard 2.9.1 has requirement protobuf<3.20,>=3.9.2, but you'll have protobuf 3.20.3 which is incompatible.\u001b[0m\n",
            "\u001b[31mERROR: tensorflow-metadata 1.14.0 has requirement absl-py<2.0.0,>=0.9, but you'll have absl-py 2.0.0 which is incompatible.\u001b[0m\n",
            "Installing collected packages: absl-py, numpy, h5py, tensorflow-estimator, opt-einsum, wrapt, oauthlib, requests-oauthlib, google-auth-oauthlib, werkzeug, tensorboard-data-server, tensorboard-plugin-wit, grpcio, importlib-metadata, markdown, tensorboard, keras, libclang, astunparse, termcolor, google-pasta, tensorflow-io-gcs-filesystem, flatbuffers, keras-preprocessing, gast, tensorflow, promise, dill, etils, googleapis-common-protos, tensorflow-metadata, tensorflow-datasets, Pillow, pandas, scipy\n",
            "  Attempting uninstall: numpy\n",
            "    Found existing installation: numpy 1.22.3\n",
            "    Uninstalling numpy-1.22.3:\n",
            "      Successfully uninstalled numpy-1.22.3\n",
            "  Attempting uninstall: pandas\n",
            "    Found existing installation: pandas 1.3.5\n",
            "    Uninstalling pandas-1.3.5:\n",
            "      Successfully uninstalled pandas-1.3.5\n",
            "Successfully installed Pillow-9.1.1 absl-py-2.0.0 astunparse-1.6.3 dill-0.3.7 etils-1.3.0 flatbuffers-1.12 gast-0.4.0 google-auth-oauthlib-0.4.6 google-pasta-0.2.0 googleapis-common-protos-1.60.0 grpcio-1.58.0 h5py-3.9.0 importlib-metadata-6.8.0 keras-2.9.0 keras-preprocessing-1.1.2 libclang-16.0.6 markdown-3.4.4 numpy-1.22.4 oauthlib-3.2.2 opt-einsum-3.3.0 pandas-1.4.2 promise-2.3 requests-oauthlib-1.3.1 scipy-1.7.3 tensorboard-2.9.1 tensorboard-data-server-0.6.1 tensorboard-plugin-wit-1.8.1 tensorflow-2.9.0 tensorflow-datasets-4.6.0 tensorflow-estimator-2.9.0 tensorflow-io-gcs-filesystem-0.34.0 tensorflow-metadata-1.14.0 termcolor-2.3.0 werkzeug-2.3.7 wrapt-1.15.0\n"
          ]
        },
        {
          "output_type": "display_data",
          "data": {
            "application/vnd.colab-display-data+json": {
              "pip_warning": {
                "packages": [
                  "google",
                  "numpy",
                  "pandas"
                ]
              }
            }
          },
          "metadata": {}
        }
      ]
    },
    {
      "cell_type": "markdown",
      "source": [
        "Testing Environment"
      ],
      "metadata": {
        "id": "VNvlChl_ewB9"
      }
    },
    {
      "cell_type": "code",
      "source": [
        "# test the environment\n",
        "def test_env():\n",
        "    import sys\n",
        "    if sys.base_prefix == sys.prefix:\n",
        "        print(\"You are probably not using virtual environment on this project.\")\n",
        "    assert sys.version_info[:2] == (3, 8), \"Use python 3.8\"\n",
        "    print(\"You are currently using Python\", sys.version)\n",
        "    print('version & environment are all good')\n",
        "\n",
        "def test_packages():\n",
        "    import tensorflow as tf\n",
        "    import tensorflow_datasets as tfds\n",
        "    import PIL\n",
        "    import pandas as pd\n",
        "    import numpy as np\n",
        "    import scipy\n",
        "    assert tf.__version__ == '2.9.0', f\"Tensorflow version isn't 2.9.0, yours currently in {tf.__version__}\"\n",
        "    assert tfds.__version__ == '4.6.0', f\"Tensorflow dataset version isn't 4.6.0, yours currently in {tfds.__version__}\"\n",
        "    assert PIL.__version__ == '9.1.1', f\"Pillow version isn't 9.1.1, yours currently in {PIL.__version__}\"\n",
        "    assert pd.__version__ == '1.4.2', f\"pandas version isn't 1.4.2, yours currently in {pd.__version__}\"\n",
        "    assert np.__version__ == '1.22.4', f\"numpy version isn't 1.22.4, yours currently in {np.__version__}\"\n",
        "    assert scipy.__version__ == '1.7.3', f\"scipy version isn't 1.7.3, yours currently in {scipy.__version__}\"\n",
        "    print('Packages are all good')\n",
        "\n",
        "test_env()\n",
        "test_packages()\n",
        "print('All good. You are ready to go.')"
      ],
      "metadata": {
        "id": "jXPnPWd-z9n0",
        "colab": {
          "base_uri": "https://localhost:8080/"
        },
        "outputId": "08684f71-41c4-4047-a6dd-c4ba7c5b86cd"
      },
      "execution_count": 2,
      "outputs": [
        {
          "output_type": "stream",
          "name": "stdout",
          "text": [
            "You are probably not using virtual environment on this project.\n",
            "You are currently using Python 3.8.18 (default, Sep 11 2023, 13:20:55) \n",
            "[GCC 11.2.0]\n",
            "version & environment are all good\n",
            "Packages are all good\n",
            "All good. You are ready to go.\n"
          ]
        }
      ]
    },
    {
      "cell_type": "markdown",
      "source": [
        "Download Kaggle Libary"
      ],
      "metadata": {
        "id": "8zTV5FeKYJsB"
      }
    },
    {
      "cell_type": "code",
      "source": [
        "!pip install kaggle"
      ],
      "metadata": {
        "id": "0hXWY0KRYLij",
        "colab": {
          "base_uri": "https://localhost:8080/"
        },
        "outputId": "91ef7e41-2a61-4315-c9fb-45bce1c2abcc"
      },
      "execution_count": 5,
      "outputs": [
        {
          "output_type": "stream",
          "name": "stdout",
          "text": [
            "Requirement already satisfied: kaggle in /usr/local/lib/python3.8/site-packages (1.5.16)\n",
            "Requirement already satisfied: urllib3 in /usr/local/lib/python3.8/site-packages (from kaggle) (1.25.8)\n",
            "Requirement already satisfied: python-dateutil in /usr/local/lib/python3.8/site-packages (from kaggle) (2.8.2)\n",
            "Requirement already satisfied: bleach in /usr/local/lib/python3.8/site-packages (from kaggle) (4.1.0)\n",
            "Requirement already satisfied: certifi in /usr/local/lib/python3.8/site-packages (from kaggle) (2023.7.22)\n",
            "Requirement already satisfied: six>=1.10 in /usr/local/lib/python3.8/site-packages (from kaggle) (1.14.0)\n",
            "Requirement already satisfied: python-slugify in /usr/local/lib/python3.8/site-packages (from kaggle) (8.0.1)\n",
            "Requirement already satisfied: requests in /usr/local/lib/python3.8/site-packages (from kaggle) (2.22.0)\n",
            "Requirement already satisfied: tqdm in /usr/local/lib/python3.8/site-packages (from kaggle) (4.42.1)\n",
            "Requirement already satisfied: webencodings in /usr/local/lib/python3.8/site-packages (from bleach->kaggle) (0.5.1)\n",
            "Requirement already satisfied: packaging in /usr/local/lib/python3.8/site-packages (from bleach->kaggle) (23.1)\n",
            "Requirement already satisfied: text-unidecode>=1.3 in /usr/local/lib/python3.8/site-packages (from python-slugify->kaggle) (1.3)\n",
            "Requirement already satisfied: chardet<3.1.0,>=3.0.2 in /usr/local/lib/python3.8/site-packages (from requests->kaggle) (3.0.4)\n",
            "Requirement already satisfied: idna<2.9,>=2.5 in /usr/local/lib/python3.8/site-packages (from requests->kaggle) (2.8)\n"
          ]
        }
      ]
    },
    {
      "cell_type": "markdown",
      "source": [
        "Upload your credential key from kaggle"
      ],
      "metadata": {
        "id": "sLtZAS3Ke5t_"
      }
    },
    {
      "cell_type": "code",
      "source": [
        "!mkdir -p ~/.kaggle\n",
        "!cp /content/kaggle.json ~/.kaggle/\n",
        "!chmod 600 ~/.kaggle/kaggle.json"
      ],
      "metadata": {
        "id": "b62B-F3TYl-f"
      },
      "execution_count": 3,
      "outputs": []
    },
    {
      "cell_type": "markdown",
      "source": [
        "Download datasets with API Command from kaggle"
      ],
      "metadata": {
        "id": "37O74AlfY3wI"
      }
    },
    {
      "cell_type": "code",
      "source": [
        "!kaggle datasets download -d muthuj7/weather-dataset"
      ],
      "metadata": {
        "id": "Qf-xK04sY9Og",
        "colab": {
          "base_uri": "https://localhost:8080/"
        },
        "outputId": "417dc395-cdf3-4207-d915-ef3694834735"
      },
      "execution_count": 4,
      "outputs": [
        {
          "output_type": "stream",
          "name": "stdout",
          "text": [
            "Downloading weather-dataset.zip to /content\n",
            "\r  0% 0.00/2.23M [00:00<?, ?B/s]\n",
            "\r100% 2.23M/2.23M [00:00<00:00, 170MB/s]\n"
          ]
        }
      ]
    },
    {
      "cell_type": "markdown",
      "source": [
        "Extract the data"
      ],
      "metadata": {
        "id": "g8iENAupfBVC"
      }
    },
    {
      "cell_type": "code",
      "source": [
        "!unzip weather-dataset.zip -d ./data"
      ],
      "metadata": {
        "id": "dccHiPHqZtfn",
        "colab": {
          "base_uri": "https://localhost:8080/"
        },
        "outputId": "0ac52a6e-17af-4117-cfaa-1e772d305dc3"
      },
      "execution_count": 5,
      "outputs": [
        {
          "output_type": "stream",
          "name": "stdout",
          "text": [
            "Archive:  weather-dataset.zip\n",
            "  inflating: ./data/weatherHistory.csv  \n"
          ]
        }
      ]
    },
    {
      "cell_type": "markdown",
      "source": [
        "Import Library"
      ],
      "metadata": {
        "id": "tqk96ItkzP_r"
      }
    },
    {
      "cell_type": "code",
      "source": [
        "import csv\n",
        "import tensorflow as tf\n",
        "import numpy as np\n",
        "import urllib"
      ],
      "metadata": {
        "id": "UexBQjN0zWC_"
      },
      "execution_count": 6,
      "outputs": []
    },
    {
      "cell_type": "code",
      "source": [
        "import pandas as pd\n",
        "\n",
        "# Load the training dataset\n",
        "train_data = pd.read_csv('/content/data/weatherHistory.csv')\n",
        "\n",
        "# Convert the date column to a datetime object and set it as the index\n",
        "train_data['Formatted Date'] = pd.to_datetime(train_data['Formatted Date'])\n",
        "train_data.set_index('Formatted Date', inplace=True)\n",
        "\n",
        "train_data.head()"
      ],
      "metadata": {
        "id": "elvJiqGQo7ne",
        "colab": {
          "base_uri": "https://localhost:8080/",
          "height": 570
        },
        "outputId": "c2d6e0eb-1833-4953-9840-05872b940afa"
      },
      "execution_count": 7,
      "outputs": [
        {
          "output_type": "execute_result",
          "data": {
            "text/plain": [
              "                                 Summary  ...                      Daily Summary\n",
              "Formatted Date                            ...                                   \n",
              "2006-04-01 00:00:00+02:00  Partly Cloudy  ...  Partly cloudy throughout the day.\n",
              "2006-04-01 01:00:00+02:00  Partly Cloudy  ...  Partly cloudy throughout the day.\n",
              "2006-04-01 02:00:00+02:00  Mostly Cloudy  ...  Partly cloudy throughout the day.\n",
              "2006-04-01 03:00:00+02:00  Partly Cloudy  ...  Partly cloudy throughout the day.\n",
              "2006-04-01 04:00:00+02:00  Mostly Cloudy  ...  Partly cloudy throughout the day.\n",
              "\n",
              "[5 rows x 11 columns]"
            ],
            "text/html": [
              "<div>\n",
              "<style scoped>\n",
              "    .dataframe tbody tr th:only-of-type {\n",
              "        vertical-align: middle;\n",
              "    }\n",
              "\n",
              "    .dataframe tbody tr th {\n",
              "        vertical-align: top;\n",
              "    }\n",
              "\n",
              "    .dataframe thead th {\n",
              "        text-align: right;\n",
              "    }\n",
              "</style>\n",
              "<table border=\"1\" class=\"dataframe\">\n",
              "  <thead>\n",
              "    <tr style=\"text-align: right;\">\n",
              "      <th></th>\n",
              "      <th>Summary</th>\n",
              "      <th>Precip Type</th>\n",
              "      <th>Temperature (C)</th>\n",
              "      <th>Apparent Temperature (C)</th>\n",
              "      <th>Humidity</th>\n",
              "      <th>Wind Speed (km/h)</th>\n",
              "      <th>Wind Bearing (degrees)</th>\n",
              "      <th>Visibility (km)</th>\n",
              "      <th>Loud Cover</th>\n",
              "      <th>Pressure (millibars)</th>\n",
              "      <th>Daily Summary</th>\n",
              "    </tr>\n",
              "    <tr>\n",
              "      <th>Formatted Date</th>\n",
              "      <th></th>\n",
              "      <th></th>\n",
              "      <th></th>\n",
              "      <th></th>\n",
              "      <th></th>\n",
              "      <th></th>\n",
              "      <th></th>\n",
              "      <th></th>\n",
              "      <th></th>\n",
              "      <th></th>\n",
              "      <th></th>\n",
              "    </tr>\n",
              "  </thead>\n",
              "  <tbody>\n",
              "    <tr>\n",
              "      <th>2006-04-01 00:00:00+02:00</th>\n",
              "      <td>Partly Cloudy</td>\n",
              "      <td>rain</td>\n",
              "      <td>9.472222</td>\n",
              "      <td>7.388889</td>\n",
              "      <td>0.89</td>\n",
              "      <td>14.1197</td>\n",
              "      <td>251.0</td>\n",
              "      <td>15.8263</td>\n",
              "      <td>0.0</td>\n",
              "      <td>1015.13</td>\n",
              "      <td>Partly cloudy throughout the day.</td>\n",
              "    </tr>\n",
              "    <tr>\n",
              "      <th>2006-04-01 01:00:00+02:00</th>\n",
              "      <td>Partly Cloudy</td>\n",
              "      <td>rain</td>\n",
              "      <td>9.355556</td>\n",
              "      <td>7.227778</td>\n",
              "      <td>0.86</td>\n",
              "      <td>14.2646</td>\n",
              "      <td>259.0</td>\n",
              "      <td>15.8263</td>\n",
              "      <td>0.0</td>\n",
              "      <td>1015.63</td>\n",
              "      <td>Partly cloudy throughout the day.</td>\n",
              "    </tr>\n",
              "    <tr>\n",
              "      <th>2006-04-01 02:00:00+02:00</th>\n",
              "      <td>Mostly Cloudy</td>\n",
              "      <td>rain</td>\n",
              "      <td>9.377778</td>\n",
              "      <td>9.377778</td>\n",
              "      <td>0.89</td>\n",
              "      <td>3.9284</td>\n",
              "      <td>204.0</td>\n",
              "      <td>14.9569</td>\n",
              "      <td>0.0</td>\n",
              "      <td>1015.94</td>\n",
              "      <td>Partly cloudy throughout the day.</td>\n",
              "    </tr>\n",
              "    <tr>\n",
              "      <th>2006-04-01 03:00:00+02:00</th>\n",
              "      <td>Partly Cloudy</td>\n",
              "      <td>rain</td>\n",
              "      <td>8.288889</td>\n",
              "      <td>5.944444</td>\n",
              "      <td>0.83</td>\n",
              "      <td>14.1036</td>\n",
              "      <td>269.0</td>\n",
              "      <td>15.8263</td>\n",
              "      <td>0.0</td>\n",
              "      <td>1016.41</td>\n",
              "      <td>Partly cloudy throughout the day.</td>\n",
              "    </tr>\n",
              "    <tr>\n",
              "      <th>2006-04-01 04:00:00+02:00</th>\n",
              "      <td>Mostly Cloudy</td>\n",
              "      <td>rain</td>\n",
              "      <td>8.755556</td>\n",
              "      <td>6.977778</td>\n",
              "      <td>0.83</td>\n",
              "      <td>11.0446</td>\n",
              "      <td>259.0</td>\n",
              "      <td>15.8263</td>\n",
              "      <td>0.0</td>\n",
              "      <td>1016.51</td>\n",
              "      <td>Partly cloudy throughout the day.</td>\n",
              "    </tr>\n",
              "  </tbody>\n",
              "</table>\n",
              "</div>"
            ]
          },
          "metadata": {},
          "execution_count": 7
        }
      ]
    },
    {
      "cell_type": "code",
      "source": [
        "train_data.describe()"
      ],
      "metadata": {
        "colab": {
          "base_uri": "https://localhost:8080/",
          "height": 318
        },
        "id": "RLrGc20Kgj9W",
        "outputId": "a3dd5695-e3ae-4981-f777-ca6a0ae741bb"
      },
      "execution_count": 8,
      "outputs": [
        {
          "output_type": "execute_result",
          "data": {
            "text/plain": [
              "       Temperature (C)  ...  Pressure (millibars)\n",
              "count     96453.000000  ...          96453.000000\n",
              "mean         11.932678  ...           1003.235956\n",
              "std           9.551546  ...            116.969906\n",
              "min         -21.822222  ...              0.000000\n",
              "25%           4.688889  ...           1011.900000\n",
              "50%          12.000000  ...           1016.450000\n",
              "75%          18.838889  ...           1021.090000\n",
              "max          39.905556  ...           1046.380000\n",
              "\n",
              "[8 rows x 8 columns]"
            ],
            "text/html": [
              "<div>\n",
              "<style scoped>\n",
              "    .dataframe tbody tr th:only-of-type {\n",
              "        vertical-align: middle;\n",
              "    }\n",
              "\n",
              "    .dataframe tbody tr th {\n",
              "        vertical-align: top;\n",
              "    }\n",
              "\n",
              "    .dataframe thead th {\n",
              "        text-align: right;\n",
              "    }\n",
              "</style>\n",
              "<table border=\"1\" class=\"dataframe\">\n",
              "  <thead>\n",
              "    <tr style=\"text-align: right;\">\n",
              "      <th></th>\n",
              "      <th>Temperature (C)</th>\n",
              "      <th>Apparent Temperature (C)</th>\n",
              "      <th>Humidity</th>\n",
              "      <th>Wind Speed (km/h)</th>\n",
              "      <th>Wind Bearing (degrees)</th>\n",
              "      <th>Visibility (km)</th>\n",
              "      <th>Loud Cover</th>\n",
              "      <th>Pressure (millibars)</th>\n",
              "    </tr>\n",
              "  </thead>\n",
              "  <tbody>\n",
              "    <tr>\n",
              "      <th>count</th>\n",
              "      <td>96453.000000</td>\n",
              "      <td>96453.000000</td>\n",
              "      <td>96453.000000</td>\n",
              "      <td>96453.000000</td>\n",
              "      <td>96453.000000</td>\n",
              "      <td>96453.000000</td>\n",
              "      <td>96453.0</td>\n",
              "      <td>96453.000000</td>\n",
              "    </tr>\n",
              "    <tr>\n",
              "      <th>mean</th>\n",
              "      <td>11.932678</td>\n",
              "      <td>10.855029</td>\n",
              "      <td>0.734899</td>\n",
              "      <td>10.810640</td>\n",
              "      <td>187.509232</td>\n",
              "      <td>10.347325</td>\n",
              "      <td>0.0</td>\n",
              "      <td>1003.235956</td>\n",
              "    </tr>\n",
              "    <tr>\n",
              "      <th>std</th>\n",
              "      <td>9.551546</td>\n",
              "      <td>10.696847</td>\n",
              "      <td>0.195473</td>\n",
              "      <td>6.913571</td>\n",
              "      <td>107.383428</td>\n",
              "      <td>4.192123</td>\n",
              "      <td>0.0</td>\n",
              "      <td>116.969906</td>\n",
              "    </tr>\n",
              "    <tr>\n",
              "      <th>min</th>\n",
              "      <td>-21.822222</td>\n",
              "      <td>-27.716667</td>\n",
              "      <td>0.000000</td>\n",
              "      <td>0.000000</td>\n",
              "      <td>0.000000</td>\n",
              "      <td>0.000000</td>\n",
              "      <td>0.0</td>\n",
              "      <td>0.000000</td>\n",
              "    </tr>\n",
              "    <tr>\n",
              "      <th>25%</th>\n",
              "      <td>4.688889</td>\n",
              "      <td>2.311111</td>\n",
              "      <td>0.600000</td>\n",
              "      <td>5.828200</td>\n",
              "      <td>116.000000</td>\n",
              "      <td>8.339800</td>\n",
              "      <td>0.0</td>\n",
              "      <td>1011.900000</td>\n",
              "    </tr>\n",
              "    <tr>\n",
              "      <th>50%</th>\n",
              "      <td>12.000000</td>\n",
              "      <td>12.000000</td>\n",
              "      <td>0.780000</td>\n",
              "      <td>9.965900</td>\n",
              "      <td>180.000000</td>\n",
              "      <td>10.046400</td>\n",
              "      <td>0.0</td>\n",
              "      <td>1016.450000</td>\n",
              "    </tr>\n",
              "    <tr>\n",
              "      <th>75%</th>\n",
              "      <td>18.838889</td>\n",
              "      <td>18.838889</td>\n",
              "      <td>0.890000</td>\n",
              "      <td>14.135800</td>\n",
              "      <td>290.000000</td>\n",
              "      <td>14.812000</td>\n",
              "      <td>0.0</td>\n",
              "      <td>1021.090000</td>\n",
              "    </tr>\n",
              "    <tr>\n",
              "      <th>max</th>\n",
              "      <td>39.905556</td>\n",
              "      <td>39.344444</td>\n",
              "      <td>1.000000</td>\n",
              "      <td>63.852600</td>\n",
              "      <td>359.000000</td>\n",
              "      <td>16.100000</td>\n",
              "      <td>0.0</td>\n",
              "      <td>1046.380000</td>\n",
              "    </tr>\n",
              "  </tbody>\n",
              "</table>\n",
              "</div>"
            ]
          },
          "metadata": {},
          "execution_count": 8
        }
      ]
    },
    {
      "cell_type": "code",
      "source": [
        "print(train_data.info())"
      ],
      "metadata": {
        "colab": {
          "base_uri": "https://localhost:8080/"
        },
        "id": "I1C8Z7SigwoI",
        "outputId": "7434264b-c5bf-4b04-e41d-be6ea5ee92e2"
      },
      "execution_count": 9,
      "outputs": [
        {
          "output_type": "stream",
          "name": "stdout",
          "text": [
            "<class 'pandas.core.frame.DataFrame'>\n",
            "Index: 96453 entries, 2006-04-01 00:00:00+02:00 to 2016-09-09 23:00:00+02:00\n",
            "Data columns (total 11 columns):\n",
            " #   Column                    Non-Null Count  Dtype  \n",
            "---  ------                    --------------  -----  \n",
            " 0   Summary                   96453 non-null  object \n",
            " 1   Precip Type               95936 non-null  object \n",
            " 2   Temperature (C)           96453 non-null  float64\n",
            " 3   Apparent Temperature (C)  96453 non-null  float64\n",
            " 4   Humidity                  96453 non-null  float64\n",
            " 5   Wind Speed (km/h)         96453 non-null  float64\n",
            " 6   Wind Bearing (degrees)    96453 non-null  float64\n",
            " 7   Visibility (km)           96453 non-null  float64\n",
            " 8   Loud Cover                96453 non-null  float64\n",
            " 9   Pressure (millibars)      96453 non-null  float64\n",
            " 10  Daily Summary             96453 non-null  object \n",
            "dtypes: float64(8), object(3)\n",
            "memory usage: 8.8+ MB\n",
            "None\n"
          ]
        }
      ]
    },
    {
      "cell_type": "code",
      "source": [
        "!pip install matplotlib"
      ],
      "metadata": {
        "colab": {
          "base_uri": "https://localhost:8080/"
        },
        "id": "u6LB2qY2eTdE",
        "outputId": "661f00f7-70b7-4724-c19b-efe3f1a99715"
      },
      "execution_count": 10,
      "outputs": [
        {
          "output_type": "stream",
          "name": "stdout",
          "text": [
            "Requirement already satisfied: matplotlib in /usr/local/lib/python3.8/site-packages (3.7.3)\n",
            "Requirement already satisfied: pillow>=6.2.0 in /usr/local/lib/python3.8/site-packages (from matplotlib) (9.1.1)\n",
            "Requirement already satisfied: importlib-resources>=3.2.0; python_version < \"3.10\" in /usr/local/lib/python3.8/site-packages (from matplotlib) (5.2.0)\n",
            "Requirement already satisfied: fonttools>=4.22.0 in /usr/local/lib/python3.8/site-packages (from matplotlib) (4.42.1)\n",
            "Requirement already satisfied: contourpy>=1.0.1 in /usr/local/lib/python3.8/site-packages (from matplotlib) (1.1.1)\n",
            "Requirement already satisfied: python-dateutil>=2.7 in /usr/local/lib/python3.8/site-packages (from matplotlib) (2.8.2)\n",
            "Requirement already satisfied: numpy<2,>=1.20 in /usr/local/lib/python3.8/site-packages (from matplotlib) (1.22.4)\n",
            "Requirement already satisfied: kiwisolver>=1.0.1 in /usr/local/lib/python3.8/site-packages (from matplotlib) (1.4.5)\n",
            "Requirement already satisfied: cycler>=0.10 in /usr/local/lib/python3.8/site-packages (from matplotlib) (0.11.0)\n",
            "Requirement already satisfied: pyparsing>=2.3.1 in /usr/local/lib/python3.8/site-packages (from matplotlib) (3.1.1)\n",
            "Requirement already satisfied: packaging>=20.0 in /usr/local/lib/python3.8/site-packages (from matplotlib) (23.1)\n",
            "Requirement already satisfied: zipp>=3.1.0; python_version < \"3.10\" in /usr/local/lib/python3.8/site-packages (from importlib-resources>=3.2.0; python_version < \"3.10\"->matplotlib) (3.11.0)\n",
            "Requirement already satisfied: six>=1.5 in /usr/local/lib/python3.8/site-packages (from python-dateutil>=2.7->matplotlib) (1.14.0)\n"
          ]
        }
      ]
    },
    {
      "cell_type": "code",
      "source": [
        "import matplotlib.pyplot as plt\n",
        "# plt.style.use('fivethirtyeight')\n",
        "\n",
        "\n",
        "# Plot the data\n",
        "plt.figure(figsize=(8, 4))\n",
        "train_data['Temperature (C)'].plot(title='Daily Temperature')\n",
        "plt.xlabel('Date')\n",
        "plt.ylabel('Temperature (°C)')\n",
        "plt.grid(True)\n",
        "plt.show()"
      ],
      "metadata": {
        "colab": {
          "base_uri": "https://localhost:8080/",
          "height": 390
        },
        "id": "NdCJXtCVpYnt",
        "outputId": "7f0b70a2-3a24-406e-fed0-de3bea415449"
      },
      "execution_count": 11,
      "outputs": [
        {
          "output_type": "display_data",
          "data": {
            "text/plain": [
              "<Figure size 800x400 with 1 Axes>"
            ],
            "image/png": "[encoded data removed]"
          },
          "metadata": {}
        }
      ]
    },
    {
      "cell_type": "markdown",
      "source": [
        "Function for windowing"
      ],
      "metadata": {
        "id": "kpJZpGPCzZ4P"
      }
    },
    {
      "cell_type": "code",
      "source": [
        "def windowed_dataset(series, window_size, batch_size, shuffle_buffer):\n",
        "    series = tf.expand_dims(series, axis=-1)\n",
        "    ds = tf.data.Dataset.from_tensor_slices(series)\n",
        "    ds = ds.window(window_size + 1, shift=1, drop_remainder=True)\n",
        "    ds = ds.flat_map(lambda w: w.batch(window_size + 1))\n",
        "    ds = ds.shuffle(shuffle_buffer)\n",
        "    ds = ds.map(lambda w: (w[:-1], w[1:]))\n",
        "    return ds.batch(batch_size).prefetch(1)"
      ],
      "metadata": {
        "id": "-UxCRdyLzb5y"
      },
      "execution_count": 12,
      "outputs": []
    },
    {
      "cell_type": "markdown",
      "source": [
        "Put the data into numpy array"
      ],
      "metadata": {
        "id": "WPyrLft-fTOz"
      }
    },
    {
      "cell_type": "code",
      "source": [
        "time_step = []\n",
        "temp = []\n",
        "\n",
        "with open('/content/data/weatherHistory.csv') as csvfile:\n",
        "    reader = csv.reader(csvfile, delimiter=',')\n",
        "    header = next(reader)\n",
        "    for index, row in enumerate(reader, start=1):\n",
        "        time_step.append(index)\n",
        "        temp.append(float(row[3]))\n",
        "\n",
        "\n",
        "time = np.array(time_step)\n",
        "series = np.array(temp)"
      ],
      "metadata": {
        "id": "w_NFoPm4aOGP"
      },
      "execution_count": 13,
      "outputs": []
    },
    {
      "cell_type": "code",
      "source": [
        "import matplotlib.pyplot as plt\n",
        "\n",
        "# Create a line plot of the time series data\n",
        "plt.figure(figsize=(12, 5))\n",
        "plt.plot(time[:10000], series[:10000])\n",
        "plt.title('Sunspots Time Series')\n",
        "plt.xlabel('Time')\n",
        "plt.ylabel('Sunspot Values')\n",
        "plt.grid(True)\n",
        "plt.show()"
      ],
      "metadata": {
        "colab": {
          "base_uri": "https://localhost:8080/",
          "height": 487
        },
        "id": "vL3INp6e9ZNk",
        "outputId": "6a752a1f-0dab-491c-c41f-137b86ac3b3a"
      },
      "execution_count": 14,
      "outputs": [
        {
          "output_type": "display_data",
          "data": {
            "text/plain": [
              "<Figure size 1200x500 with 1 Axes>"
            ],
            "image/png": "[encoded data removed]"
          },
          "metadata": {}
        }
      ]
    },
    {
      "cell_type": "code",
      "source": [
        "# Normalization Function. DO NOT CHANGE THIS CODE\n",
        "min = np.min(series)\n",
        "max = np.max(series)\n",
        "series -= min\n",
        "series /= max\n",
        "\n",
        "# DO NOT CHANGE THIS CODE\n",
        "split_time = 6000\n",
        "\n",
        "\n",
        "\n",
        "time_train =  time[:split_time] # YOUR CODE HERE\n",
        "x_train =  series[:split_time] # YOUR CODE HERE\n",
        "time_valid =  time[split_time:] # YOUR CODE HERE\n",
        "x_valid =  series[split_time:] # YOUR CODE HERE\n",
        "\n",
        "# DO NOT CHANGE THIS CODE\n",
        "window_size = 30\n",
        "batch_size = 32\n",
        "shuffle_buffer_size = 1000\n",
        "\n",
        "train_set = windowed_dataset(x_train, window_size=window_size,\n",
        "                             batch_size=batch_size, shuffle_buffer=shuffle_buffer_size)"
      ],
      "metadata": {
        "id": "LuQHzHyldlIa",
        "colab": {
          "base_uri": "https://localhost:8080/"
        },
        "outputId": "cf2073cc-56a4-42c5-a33f-52f265ec153d"
      },
      "execution_count": 15,
      "outputs": [
        {
          "output_type": "stream",
          "name": "stderr",
          "text": [
            "2023-09-27 00:48:26.804816: W tensorflow/stream_executor/platform/default/dso_loader.cc:64] Could not load dynamic library 'libcuda.so.1'; dlerror: libcuda.so.1: cannot open shared object file: No such file or directory; LD_LIBRARY_PATH: /usr/local/nvidia/lib:/usr/local/nvidia/lib64\n",
            "2023-09-27 00:48:26.806841: W tensorflow/stream_executor/cuda/cuda_driver.cc:269] failed call to cuInit: UNKNOWN ERROR (303)\n",
            "2023-09-27 00:48:26.806904: I tensorflow/stream_executor/cuda/cuda_diagnostics.cc:156] kernel driver does not appear to be running on this host (45af131bd42d): /proc/driver/nvidia/version does not exist\n",
            "2023-09-27 00:48:26.807528: I tensorflow/core/platform/cpu_feature_guard.cc:193] This TensorFlow binary is optimized with oneAPI Deep Neural Network Library (oneDNN) to use the following CPU instructions in performance-critical operations:  AVX2 FMA\n",
            "To enable them in other operations, rebuild TensorFlow with the appropriate compiler flags.\n"
          ]
        }
      ]
    },
    {
      "cell_type": "code",
      "source": [
        "import tensorflow as tf\n",
        "\n",
        "iterator = iter(train_set)\n",
        "\n",
        "# Cetak beberapa batch pertama\n",
        "num_batches_to_print = 5\n",
        "for i in range(num_batches_to_print):\n",
        "    batch_x, batch_y = next(iterator)\n",
        "    print(f\"Batch {i + 1}:\")\n",
        "    print(f\"Features (X) shape: {batch_x.shape}\")\n",
        "    print(f\"Labels (Y) shape: {batch_y.shape}\")\n",
        "    print(\"Sample Features (X):\")\n",
        "    print(batch_x[0])\n",
        "    print(\"Sample Labels (Y):\")\n",
        "    print(batch_y[0])\n",
        "    print(\"\\n\")"
      ],
      "metadata": {
        "id": "36bDT0RFCHkk"
      },
      "execution_count": null,
      "outputs": []
    },
    {
      "cell_type": "code",
      "source": [
        "model = tf.keras.models.Sequential([\n",
        "    tf.keras.layers.LSTM(64,input_shape=[None, 1], return_sequences=True),\n",
        "    tf.keras.layers.Dense(32, activation=\"relu\"),\n",
        "    tf.keras.layers.Dense(1)\n",
        "])"
      ],
      "metadata": {
        "id": "uxqhLi2vduCs"
      },
      "execution_count": 17,
      "outputs": []
    },
    {
      "cell_type": "code",
      "source": [
        "optimizer = tf.keras.optimizers.Adam(learning_rate=0.001)\n",
        "\n",
        "# YOUR CODE\n",
        "model.compile(optimizer=optimizer, loss='mean_squared_error', metrics=['mae'])\n",
        "\n",
        "history = model.fit(train_set, epochs=20)"
      ],
      "metadata": {
        "colab": {
          "base_uri": "https://localhost:8080/"
        },
        "id": "j1dbCbRVdwvn",
        "outputId": "47dfdb98-1f0d-4948-e041-969c4b0ab9bf"
      },
      "execution_count": 18,
      "outputs": [
        {
          "output_type": "stream",
          "name": "stdout",
          "text": [
            "Epoch 1/20\n",
            "187/187 [==============================] - 10s 36ms/step - loss: 0.0549 - mae: 0.1374\n",
            "Epoch 2/20\n",
            "187/187 [==============================] - 5s 23ms/step - loss: 0.0069 - mae: 0.0502\n",
            "Epoch 3/20\n",
            "187/187 [==============================] - 4s 22ms/step - loss: 0.0031 - mae: 0.0355\n",
            "Epoch 4/20\n",
            "187/187 [==============================] - 7s 35ms/step - loss: 0.0019 - mae: 0.0288\n",
            "Epoch 5/20\n",
            "187/187 [==============================] - 5s 27ms/step - loss: 0.0015 - mae: 0.0258\n",
            "Epoch 6/20\n",
            "187/187 [==============================] - 6s 29ms/step - loss: 0.0014 - mae: 0.0244\n",
            "Epoch 7/20\n",
            "187/187 [==============================] - 6s 30ms/step - loss: 0.0013 - mae: 0.0240\n",
            "Epoch 8/20\n",
            "187/187 [==============================] - 4s 22ms/step - loss: 0.0013 - mae: 0.0234\n",
            "Epoch 9/20\n",
            "187/187 [==============================] - 4s 22ms/step - loss: 0.0013 - mae: 0.0231\n",
            "Epoch 10/20\n",
            "187/187 [==============================] - 7s 36ms/step - loss: 0.0013 - mae: 0.0229\n",
            "Epoch 11/20\n",
            "187/187 [==============================] - 5s 24ms/step - loss: 0.0013 - mae: 0.0228\n",
            "Epoch 12/20\n",
            "187/187 [==============================] - 4s 22ms/step - loss: 0.0012 - mae: 0.0227\n",
            "Epoch 13/20\n",
            "187/187 [==============================] - 6s 33ms/step - loss: 0.0012 - mae: 0.0226\n",
            "Epoch 14/20\n",
            "187/187 [==============================] - 5s 28ms/step - loss: 0.0012 - mae: 0.0225\n",
            "Epoch 15/20\n",
            "187/187 [==============================] - 4s 22ms/step - loss: 0.0012 - mae: 0.0226\n",
            "Epoch 16/20\n",
            "187/187 [==============================] - 5s 28ms/step - loss: 0.0012 - mae: 0.0224\n",
            "Epoch 17/20\n",
            "187/187 [==============================] - 7s 37ms/step - loss: 0.0012 - mae: 0.0225\n",
            "Epoch 18/20\n",
            "187/187 [==============================] - 5s 26ms/step - loss: 0.0012 - mae: 0.0223\n",
            "Epoch 19/20\n",
            "187/187 [==============================] - 4s 22ms/step - loss: 0.0012 - mae: 0.0224\n",
            "Epoch 20/20\n",
            "187/187 [==============================] - 6s 31ms/step - loss: 0.0012 - mae: 0.0222\n"
          ]
        }
      ]
    },
    {
      "cell_type": "code",
      "source": [
        "import matplotlib.pyplot as plt\n",
        "\n",
        "# Ambil riwayat pelatihan\n",
        "loss = history.history['loss']\n",
        "mae = history.history['mae']\n",
        "epochs = range(1, len(loss) + 1)\n",
        "\n",
        "# Plot loss\n",
        "plt.figure(figsize=(12, 5))\n",
        "plt.subplot(1, 2, 1)\n",
        "plt.plot(epochs, loss, 'r', label='Training Loss')\n",
        "plt.title('Training Loss')\n",
        "plt.xlabel('Epochs')\n",
        "plt.ylabel('Loss')\n",
        "plt.legend()\n",
        "\n",
        "# Plot MAE\n",
        "plt.subplot(1, 2, 2)\n",
        "plt.plot(epochs, mae, 'b', label='Training MAE')\n",
        "plt.title('Training MAE')\n",
        "plt.xlabel('Epochs')\n",
        "plt.ylabel('MAE')\n",
        "plt.legend()\n",
        "\n",
        "plt.tight_layout()\n",
        "plt.show()\n"
      ],
      "metadata": {
        "colab": {
          "base_uri": "https://localhost:8080/",
          "height": 436
        },
        "id": "6LxdLwYtZ8YC",
        "outputId": "19f0fc24-97e6-466e-8c82-dd6cb87aa4e1"
      },
      "execution_count": 19,
      "outputs": [
        {
          "output_type": "display_data",
          "data": {
            "text/plain": [
              "<Figure size 1200x500 with 2 Axes>"
            ],
            "image/png": "[encoded data removed]"
          },
          "metadata": {}
        }
      ]
    },
    {
      "cell_type": "code",
      "source": [
        "# Define a function to make predictions\n",
        "def make_predictions(model, input_data):\n",
        "    # Normalize the input data (similar to training data)\n",
        "    min_value = np.min(input_data)\n",
        "    max_value = np.max(input_data)\n",
        "    normalized_input = (input_data - min_value) / (max_value - min_value)\n",
        "\n",
        "    # Reshape the input data to match the model's input shape\n",
        "    input_sequence = normalized_input[-30:].reshape(1, -1, 1)\n",
        "\n",
        "    # Make predictions\n",
        "    predicted_value = model.predict(input_sequence)\n",
        "\n",
        "    # Denormalize the predicted value\n",
        "    predicted_value = predicted_value * (max_value - min_value) + min_value\n",
        "\n",
        "    return predicted_value[0, 0]\n",
        "\n",
        "# Example: Make a prediction for the next day's temperature\n",
        "input_data = np.array([\n",
        "    0.5, 0.6, 0.7, 0.8, 0.9, 0.8, 0.7, 0.6, 0.5, 0.4,\n",
        "    0.3, 0.2, 0.1, 0.2, 0.3, 0.4, 0.5, 0.6, 0.7, 0.8,\n",
        "    0.9, 0.8, 0.7, 0.6, 0.5, 0.4, 0.3, 0.2, 0.1, 0.2\n",
        "])\n",
        "\n",
        "predicted_temperature = make_predictions(model, input_data)\n",
        "print(\"Predicted temperature for the next day:\", predicted_temperature)"
      ],
      "metadata": {
        "colab": {
          "base_uri": "https://localhost:8080/"
        },
        "id": "nnRbunEh_dVz",
        "outputId": "32d82366-48ec-4ff1-856e-c3e5d11d53f1"
      },
      "execution_count": 20,
      "outputs": [
        {
          "output_type": "stream",
          "name": "stdout",
          "text": [
            "1/1 [==============================] - 1s 810ms/step\n",
            "Predicted temperature for the next day: [0.5035406]\n"
          ]
        }
      ]
    }
  ]
}